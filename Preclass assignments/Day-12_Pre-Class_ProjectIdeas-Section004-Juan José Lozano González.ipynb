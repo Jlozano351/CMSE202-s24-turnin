{
 "cells": [
  {
   "cell_type": "markdown",
   "metadata": {},
   "source": [
    "# [Section 004] Pre-Class Assignment: Reviewing Project Ideas\n",
    "# Day 12 \n",
    "# CMSE 202"
   ]
  },
  {
   "cell_type": "markdown",
   "metadata": {},
   "source": [
    "## <p style=\"text-align: right;\"> &#9989; Put your name here</p>"
   ]
  },
  {
   "cell_type": "markdown",
   "metadata": {},
   "source": [
    "In this pre-class assignment we are going to explore your project ideas for class.  The ideas are pulled from the project brainstorming you did previously. The instructional staff did their best to interpret the concept of your ideas based on what you submitted to the previous pre-class survey. In some cases we had to try to put vagues thoughts into concrete categories and we may have misconstrued the original intent -- sorry if your idea was mangled!\n",
    "\n",
    "Please think about what would make a good and interesting project and complete the following:\n",
    "\n",
    "**&#9989; Do This:** \n",
    "\n",
    "1. Read though the following project ideas and put notes in the `comments` slot provided on any that you find interesting.\n",
    "2. Having read through them all, write down your top 3 in the list below using names like \"Social 1\" or \"Sports 2\" (the category and the number). Consider the following factors as you are investigating for your top 3.\n",
    "    * Is the project something you are interested in?\n",
    "    * How hard will the project be for a group to complete? \n",
    "    * Can you find any python libraries or datasets that would help with the project?\n",
    "    * Is this just a toy project or is the project scientifically motivated. I.e. what broad scientific questions would this project be able to answer?\n",
    "3. Having selected three, add some details in your `Top Three List` with information like:\n",
    "    * Any links to new information or datasets.\n",
    "    * Scientific questions that this project would be able to explore.\n",
    "    * Computational methods you might use for the project.\n",
    "    * Additional thoughts or ideas you want to tell the instructors. \n",
    "\n",
    "**Note:** You are welcome to also combine two or more project ideas into one bigger project. Or you can come up with a new project idea.  Reference the projects based on their project numbers. Do not change the numbers. "
   ]
  },
  {
   "cell_type": "markdown",
   "metadata": {},
   "source": [
    "## Top Three List (with some details)\n",
    "\n",
    "1.  Credit card fraud detection: I think it is a cool concept, and it would allow for some good in the world.\n",
    "\n",
    "2.  Modelling disease spread: I think it is a cool concept, and it would allow for some good in the world.\n",
    "\n",
    "3. Land use/crop scheduling: I think it is a cool concept, and it would allow for some good in the world (more than the other 2)."
   ]
  },
  {
   "cell_type": "markdown",
   "metadata": {},
   "source": [
    "---\n",
    "\n",
    "# Project Ideas From Brainstorming:"
   ]
  },
  {
   "cell_type": "markdown",
   "metadata": {},
   "source": [
    "## Health\n",
    "\n",
    "1. Probability of disease spread\n",
    "\n",
    "**comments**: Useful to prevent disease to spread.\n",
    "\n",
    "2. Modelling disease spread\n",
    "\n",
    "**comments**: Useful to prevent disease to spread.\n"
   ]
  },
  {
   "cell_type": "markdown",
   "metadata": {},
   "source": [
    "## Social\n",
    "\n",
    "1. Fake news modelling ABM \n",
    "  \n",
    "\n",
    "**comments**: Useful for knowing how fake news work and spread.\n",
    "\n",
    "2. ASL Translator\n",
    "  \n",
    "\n",
    "**comments**: Good for translating and enhancing communication.\n",
    "\n",
    "3. Movie success prediction\n",
    "  \n",
    "\n",
    "**comments**: Useful for movie studios to know what movies will do well and plan accordingly.\n",
    "\n",
    "4. Brand loyalty prediction\n",
    "\n",
    "**comments**: Useful for knowing how brand loyalty will affect them and plan accordingly.\n",
    "\n",
    "5. Uber driver rating prediction\n",
    "\n",
    "**comments**: IDK, no use.\n",
    "\n"
   ]
  },
  {
   "cell_type": "markdown",
   "metadata": {},
   "source": [
    "## Financial\n",
    "\n",
    "1. Stock market prediction\n",
    "\n",
    " \n",
    "**comments**: Good for making yourself rich.\n",
    " \n",
    "2. Salary Influence Analysis\n",
    "\n",
    "**comments**:  Good for goverment to track how people will have it according to median income.\n",
    "\n",
    "3. Credit card fraud detection\n",
    "\n",
    "**comments**:  Useful for avoiding Credit card fraud.\n"
   ]
  },
  {
   "cell_type": "markdown",
   "metadata": {},
   "source": [
    "## Biology/Wildlife\n",
    "\n",
    "1. Land use/crop scheduling \n",
    "\n",
    "**comments**: Good for producing more food.\n",
    "\n",
    "2. Wildlife conservation strategy ABM\n",
    "\n",
    "**comments**: Good for the environment.\n",
    "\n",
    "3. Fungi growth ABM\n",
    "\n",
    "**comments**: Useful for mycologists as a tool in understanding fungi.\n",
    "\n",
    "4. Biome image identification\n",
    "\n",
    "**comments**: useful for ecologists to track biomes all over the world.\n"
   ]
  },
  {
   "cell_type": "markdown",
   "metadata": {},
   "source": [
    "## Sports\n",
    "\n",
    "1. NBA bracket prediction\n",
    "\n",
    "**comments**: Good to get rich (betting), or enhance performance of players.\n",
    "\n",
    "2. NFL superbowl prediction\n",
    "\n",
    "**comments**: Good to get rich (betting), or enhance performance of players.\n",
    "\n",
    "3. Poker hand win estimation\n",
    "\n",
    "**comments**: Good to get rich (betting).\n",
    "\n",
    "4. MLB best next pitch prediction\n",
    "\n",
    "**comments**: Good to get rich (betting), or enhance performance of players.\n",
    "\n",
    "5. Sports draft prediction\n",
    "\n",
    "**comments**: Good to get rich (betting).\n",
    "\n",
    "6. Cricket players' future performance/stats\n",
    "\n",
    "**comments**: Good to get rich (betting), or enhance performance of players.\n",
    "\n",
    "7. Baseball stats prediction\n",
    "\n",
    "**comments**: Good to get rich (betting), or enhance performance of players."
   ]
  },
  {
   "cell_type": "markdown",
   "metadata": {},
   "source": [
    "------\n",
    "\n",
    "# New project ideas\n",
    "\n",
    "If you've come up with new project ideas since our brainstorming session, feel free to add them here. Make sure to include the same sort of information you put together for your \"top 3\" models from above. Make a note in assignment wrap-up survey in the \"Follow-up Questions\" text box if any of your new ideas happen to be your new favorite idea."
   ]
  },
  {
   "cell_type": "markdown",
   "metadata": {},
   "source": [
    "## < New Idea >\n",
    "\n",
    "< New idea description >\n",
    "\n",
    "**Comments:**\n"
   ]
  },
  {
   "cell_type": "markdown",
   "metadata": {},
   "source": [
    "---\n",
    "## Follow-up Questions\n",
    "\n",
    "Copy and paste the following questions into the appropriate box in the assignment survey include below and answer them there. (Note: You'll have to fill out the assignment number and go to the \"NEXT\" section of the survey to paste in these questions.)\n",
    "\n",
    "1. What are your current top three project ideas that you're most interested in? (You should be able to copy this from the list your created at the beginning of this notebook)."
   ]
  },
  {
   "cell_type": "markdown",
   "metadata": {},
   "source": [
    "----\n",
    "# Assignment wrap-up\n",
    "\n",
    "Please fill out the form that appears when you run the code below.  **You must completely fill this out in order to receive credit for the assignment!**"
   ]
  },
  {
   "cell_type": "code",
   "execution_count": 1,
   "metadata": {},
   "outputs": [
    {
     "data": {
      "text/html": [
       "\n",
       "<iframe \n",
       "\tsrc=\"https://cmse.msu.edu/cmse202-pc-survey\" \n",
       "\twidth=\"800px\" \n",
       "\theight=\"600px\" \n",
       "\tframeborder=\"0\" \n",
       "\tmarginheight=\"0\" \n",
       "\tmarginwidth=\"0\">\n",
       "\tLoading...\n",
       "</iframe>\n"
      ],
      "text/plain": [
       "<IPython.core.display.HTML object>"
      ]
     },
     "execution_count": 1,
     "metadata": {},
     "output_type": "execute_result"
    }
   ],
   "source": [
    "from IPython.display import HTML\n",
    "HTML(\n",
    "\"\"\"\n",
    "<iframe \n",
    "\tsrc=\"https://cmse.msu.edu/cmse202-pc-survey\" \n",
    "\twidth=\"800px\" \n",
    "\theight=\"600px\" \n",
    "\tframeborder=\"0\" \n",
    "\tmarginheight=\"0\" \n",
    "\tmarginwidth=\"0\">\n",
    "\tLoading...\n",
    "</iframe>\n",
    "\"\"\"\n",
    ")"
   ]
  },
  {
   "cell_type": "markdown",
   "metadata": {},
   "source": [
    "---------\n",
    "### Congratulations, you're done with your pre-class assignment!\n",
    "\n",
    "Now, you just need to submit this assignment by uploading it to the course <a href=\"https://d2l.msu.edu/\">Desire2Learn</a> web page for today's submission folder (Don't forget to add your name in the first cell)."
   ]
  },
  {
   "cell_type": "markdown",
   "metadata": {},
   "source": [
    "&#169; Copyright 2023,  Department of Computational Mathematics, Science and Engineering at Michigan State University"
   ]
  }
 ],
 "metadata": {
  "kernelspec": {
   "display_name": "Python 3 (ipykernel)",
   "language": "python",
   "name": "python3"
  },
  "language_info": {
   "codemirror_mode": {
    "name": "ipython",
    "version": 3
   },
   "file_extension": ".py",
   "mimetype": "text/x-python",
   "name": "python",
   "nbconvert_exporter": "python",
   "pygments_lexer": "ipython3",
   "version": "3.11.5"
  },
  "widgets": {
   "application/vnd.jupyter.widget-state+json": {
    "state": {},
    "version_major": 2,
    "version_minor": 0
   }
  }
 },
 "nbformat": 4,
 "nbformat_minor": 4
}
