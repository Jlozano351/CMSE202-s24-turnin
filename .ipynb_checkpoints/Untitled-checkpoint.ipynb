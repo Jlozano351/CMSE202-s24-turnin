{
 "cells": [
  {
   "cell_type": "markdown",
   "id": "f806c87d",
   "metadata": {},
   "source": [
    "# Juan José's code Portfolio"
   ]
  },
  {
   "cell_type": "markdown",
   "id": "5d2b7e5e",
   "metadata": {},
   "source": [
    "## Importing a file in numpy"
   ]
  },
  {
   "cell_type": "markdown",
   "id": "75435141",
   "metadata": {},
   "source": [
    "### 02/27/2023"
   ]
  },
  {
   "cell_type": "code",
   "execution_count": null,
   "id": "78356de4",
   "metadata": {},
   "outputs": [],
   "source": [
    "import numpy as np\n",
    "mhu_date, mhu_level = np.loadtxt(\"lake_michigan_huron.csv\", usecols = [0,1], unpack=True, delimiter=',')\n",
    "sup_date, sup_level = np.loadtxt(\"lake_superior.csv\", usecols = [0,1], unpack=True, delimiter=',')\n",
    "eri_date, eri_level = np.loadtxt(\"lake_erie.csv\", usecols = [0,1], unpack=True, delimiter=',')\n",
    "ont_date, ont_level = np.loadtxt(\"lake_ontario.csv\", usecols = [0,1], unpack=True, delimiter=',')"
   ]
  },
  {
   "cell_type": "markdown",
   "id": "4a0ac881",
   "metadata": {},
   "source": [
    "## Adding multiple graphs in one "
   ]
  },
  {
   "cell_type": "markdown",
   "id": "d98de22b",
   "metadata": {},
   "source": [
    "### 02/27/2023"
   ]
  },
  {
   "cell_type": "code",
   "execution_count": null,
   "id": "4401a521",
   "metadata": {},
   "outputs": [],
   "source": [
    "%matplotlib inline\n",
    "import numpy as np\n",
    "import matplotlib.pyplot as plt\n",
    "\n",
    "plt.figure(figsize=(8,10))\n",
    "plt.suptitle(\"The great lake's depth vs time\")  # title for the whole figure\n",
    "plt.subplot(2,2,1)\n",
    "plt.plot(mhu_date,mhu_level)\n",
    "plt.xlabel('time')\n",
    "plt.ylabel('depth')\n",
    "plt.title(\"Michigan and Huron lake's depth vs time\")\n",
    "\n",
    "plt.subplot(2,2,2)\n",
    "plt.plot(ont_date,ont_level)\n",
    "plt.xlabel('time')\n",
    "plt.ylabel('depth')\n",
    "plt.title(\"Ontario lake's depth vs time\")\n",
    "\n",
    "plt.subplot(2,2,3)\n",
    "plt.plot(eri_date,eri_level)\n",
    "plt.xlabel('time')\n",
    "plt.ylabel('depth')\n",
    "plt.title(\"Erie lake's depth vs time\")\n",
    "\n",
    "plt.subplot(2,2,4)\n",
    "plt.plot(sup_date,sup_level)\n",
    "plt.xlabel('time')\n",
    "plt.ylabel('depth')\n",
    "plt.title(\"Superior lake's depth vs time\")\n",
    "\n",
    "plt.tight_layout()"
   ]
  }
 ],
 "metadata": {
  "kernelspec": {
   "display_name": "Python 3 (ipykernel)",
   "language": "python",
   "name": "python3"
  },
  "language_info": {
   "codemirror_mode": {
    "name": "ipython",
    "version": 3
   },
   "file_extension": ".py",
   "mimetype": "text/x-python",
   "name": "python",
   "nbconvert_exporter": "python",
   "pygments_lexer": "ipython3",
   "version": "3.9.13"
  }
 },
 "nbformat": 4,
 "nbformat_minor": 5
}
