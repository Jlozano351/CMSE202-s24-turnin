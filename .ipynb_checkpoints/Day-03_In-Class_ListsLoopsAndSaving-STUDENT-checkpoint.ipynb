{
 "cells": [
  {
   "cell_type": "markdown",
   "metadata": {},
   "source": [
    "# Day 3 In-class Assignment: The power of compound interest\n",
    "<img src=\"https://g.foolcdn.com/image/?url=https%3A//g.foolcdn.com/editorial/images/463624/retirement-savings-jar-full-of-coins-and-alarm-clock.jpg&w=2000&op=resize\" width=400px>\n"
   ]
  },
  {
   "cell_type": "markdown",
   "metadata": {},
   "source": [
    "### <p style=\"text-align: right;\"> &#9989; Juan José Lozano\n",
    "<p style=\"text-align: right;\"> &#9989; Harith, Sahana, Curtis, Eli"
   ]
  },
  {
   "cell_type": "markdown",
   "metadata": {},
   "source": [
    "## Learning Goals:\n",
    "\n",
    "By the end of this assignment you should be able to:\n",
    "\n",
    "* Use Python lists to store values\n",
    "* Use loops to iterate over a specified range or until a condition is met.\n",
    "* Compute the best retirement savings plan.\n"
   ]
  },
  {
   "cell_type": "markdown",
   "metadata": {},
   "source": [
    "---\n",
    "## The Problem\n",
    "\n",
    "You are working for a bank, writing code to calculate the revenue and expenses for the company. A person can deposit money in a retirement account at your bank, and the bank pays interest every year on the money in the retirement account. The mathematical expression for calculating the amount of money in the retirement account every year is:\n",
    "\n",
    "$\\mathrm{New~Retirement~Total} = (\\mathrm{Old~Retirement~Total}) + [(\\mathrm{Old~Retirement~Total})*(\\mathrm{Interest~Rate})] + (\\mathrm{Money~Added~to~Retirement})$\n",
    "\n",
    "Or, if we simplify this a bit, we can re-write it as:\n",
    "\n",
    "$\\mathrm{New~Retirement~Total} = [(\\mathrm{Old~Retirement~Total})*(\\mathrm{1 + Interest~Rate})] + (\\mathrm{Money~Added~to~Retirement})$\n",
    "\n",
    "**Your job is to write a piece of code that calculates and stores (in a list) the total amount of money in the retirement account *every year* for some number of years** (your boss is going to make a plot of it, so make sure you have the value for each year!). \n",
    "\n",
    "Your boss tells you to model the total retirement savings for a ***range*** of different parameters (*e.g.* interest rates and annual contributions).\n",
    "\n",
    "**You can assume that the person saving for retirement starts when they're 18 and continues until they're 65. Also assume that the interest rate and annual contributions are fixed.**"
   ]
  },
  {
   "cell_type": "markdown",
   "metadata": {},
   "source": [
    "---\n",
    "## 1. Planning your solution and pseudo-coding\n",
    "\n",
    "Before you start writing any code you should come up with a plan for how you've going to solve the problem. During this phase you should identify and define the variables that are revelant to the problem, the equations you're going to need to model, the overall structure of the program that you will write, and how you will make sure the code is running correctly.\n",
    "\n",
    "#### You and your group members are expected to use the white board at your table (or a virtual whiteboard app like [Google Jamboard](https://jamboard.google.com/) or the [Aww app](https://awwapp.com/)) to write out your ideas to ensure that everyone is on the same page and allow your instructors to see your progress.\n",
    "\n",
    "Part of this planning process should involve writing \"**pseudo-code**\", a plain language description of the steps in your code (sort of like writing out in your code in form of a cooking recipe). **You actually already did a version of this on Day 1 when you and your group came up with an _algorithm_ for sorting people by their birthday.**\n",
    "\n",
    "As a reminder, **an algorithm is**: a procedure for solving a problem in terms of the actions to be executed and the order in which those actions are to be executed. In other words, an algorithm is merely the sequence of steps taken to solve a problem. [[source](https://www.unf.edu/~broggio/cop2221/2221pseu.htm) of this definition]\n",
    "\n",
    "You can see some examples of pseudocode [here](https://www.unf.edu/~broggio/cop2221/2221pseu.htm) and [here](https://www.geeksforgeeks.org/how-to-write-a-pseudo-code/).\n",
    "\n",
    "Things you should decide on during your planning and psuedo-coding:\n",
    "\n",
    "1. What quantities in your model are \"variables\" that will change as a function of time? What are the initial values of these variables?\n",
    "2. What quantities in your model are \"parameters\" that are constant over time? What are reasonable ranges for each parameter? \n",
    "4. How will you go about solving this problem for a given set of inputs?\n",
    "5. How will you check to make sure your code is running correctly. \n",
    "\n",
    "\n",
    "You should be able to justify your choices.\n",
    "\n",
    "### &#9989;&nbsp; 1.1 Record the details of you plan in the Markdown cell below."
   ]
  },
  {
   "cell_type": "markdown",
   "metadata": {},
   "source": [
    "<font size=6 color=\"#009600\">&#9998;</font> \n",
    "We store initial age, final age, money added each year and interest rates as variables.\n",
    "Then we create a for loop that runs the formula the amount of times that is needed (the amount of years)\n",
    "And then we make it print a table with all of the values of the money saved plus the "
   ]
  },
  {
   "cell_type": "markdown",
   "metadata": {},
   "source": [
    "## &#128721; STOP AND ASK YOUR INSTRUCTOR TO COME OVER AND CHECK YOUR PSEUDOCODE\n",
    "\n",
    "---\n",
    "## 2. Coding up your solution\n",
    "\n",
    "Now that you and your group have come up with a plan for your code, it's time to put your plan into action.\n",
    "\n",
    "### &#9989;&nbsp; 2.1 Writing Code\n",
    "**Write your code for calculating the total retirement savings in the cell below. Start by writing code for a single set of parameter values (i.e., not a range).** It is simpler, and you can also add to it later.\n",
    "\n",
    "**Hint: Remember to update the value of $\\mathrm{Old~Retirement~Total}$ in your loop!**"
   ]
  },
  {
   "cell_type": "code",
   "execution_count": 12,
   "metadata": {},
   "outputs": [
    {
     "name": "stdout",
     "output_type": "stream",
     "text": [
      "18 : 1000\n",
      "19 : 2060\n",
      "20 : 3183\n",
      "21 : 4374\n",
      "22 : 5637\n",
      "23 : 6975\n",
      "24 : 8393\n",
      "25 : 9897\n",
      "26 : 11491\n",
      "27 : 13180\n",
      "28 : 14971\n",
      "29 : 16869\n",
      "30 : 18882\n",
      "31 : 21015\n",
      "32 : 23275\n",
      "33 : 25672\n",
      "34 : 28212\n",
      "35 : 30905\n",
      "36 : 33759\n",
      "37 : 36785\n",
      "38 : 39992\n",
      "39 : 43392\n",
      "40 : 46995\n",
      "41 : 50815\n",
      "42 : 54864\n",
      "43 : 59156\n",
      "44 : 63705\n",
      "45 : 68528\n",
      "46 : 73639\n",
      "47 : 79058\n",
      "48 : 84801\n",
      "49 : 90889\n",
      "50 : 97343\n",
      "51 : 104183\n",
      "52 : 111434\n",
      "53 : 119120\n",
      "54 : 127268\n",
      "55 : 135904\n",
      "56 : 145058\n",
      "57 : 154761\n",
      "58 : 165047\n",
      "59 : 175950\n",
      "60 : 187507\n",
      "61 : 199758\n",
      "62 : 212743\n",
      "63 : 226508\n",
      "64 : 241098\n",
      "65 : 256564\n",
      "Your total retirement money is $256564\n",
      "[1000, 2060, 3183, 4374, 5637, 6975, 8393, 9897, 11491, 13180, 14971, 16869, 18882, 21015, 23275, 25672, 28212, 30905, 33759, 36785, 39992, 43392, 46995, 50815, 54864, 59156, 63705, 68528, 73639, 79058, 84801, 90889, 97343, 104183, 111434, 119120, 127268, 135904, 145058, 154761, 165047, 175950, 187507, 199758, 212743, 226508, 241098, 256564]\n"
     ]
    }
   ],
   "source": [
    "initial = 18 \n",
    "final = 65\n",
    "interest_rate = 0.06\n",
    "retirement = []\n",
    "total = 0\n",
    "money_added = 1000\n",
    "for year in range(initial, final + 1, 1): \n",
    "    total = total*(1 + interest_rate) + money_added\n",
    "    retirement.append(int(total))\n",
    "    print(year, \":\", int(total))\n",
    "print(\"Your total retirement money is $\" + str(retirement[-1]))\n",
    "print(retirement)"
   ]
  },
  {
   "cell_type": "markdown",
   "metadata": {},
   "source": [
    "---\n",
    "### &#128721; STOP\n",
    "\n",
    "**Check to make sure your code is working correctly.**"
   ]
  },
  {
   "cell_type": "markdown",
   "metadata": {},
   "source": [
    "We checked our answers against [the following calculator](https://www.moneygeek.com/compound-interest-calculator/) and we got the same answer"
   ]
  },
  {
   "cell_type": "markdown",
   "metadata": {},
   "source": [
    "## 3. Coding up your solution (Range of Values)\n",
    "\n",
    "### &#9989;&nbsp; 3.1 Putting in a Range of Values\n",
    "**Take the code you wrote in Part 2 and expand on it so that you can calculate total retirement savings for a range of different input parameters.** To start, try 3 different annual contribution values and 4 different interests rates, but try to write your code so that you could easily do greater or fewer numbers of values for both parameters.\n",
    "\n",
    "**Note:** To explore a range of input parameters, you may want to use a \"nested\" loop (a loop inside a loop). Look back at the pre-class assignment for an example!"
   ]
  },
  {
   "cell_type": "code",
   "execution_count": 4,
   "metadata": {},
   "outputs": [
    {
     "name": "stdout",
     "output_type": "stream",
     "text": [
      "Your total retirement money for 4% interest rate and $1000 annual contribution is $139263\n",
      "Your total retirement money for 4% interest rate and $1500 annual contribution is $208894\n",
      "Your total retirement money for 4% interest rate and $2000 annual contribution is $278526\n",
      "Your total retirement money for 5% interest rate and $1000 annual contribution is $188025\n",
      "Your total retirement money for 5% interest rate and $1500 annual contribution is $282038\n",
      "Your total retirement money for 5% interest rate and $2000 annual contribution is $376050\n",
      "Your total retirement money for 6% interest rate and $1000 annual contribution is $256564\n",
      "Your total retirement money for 6% interest rate and $1500 annual contribution is $384846\n",
      "Your total retirement money for 6% interest rate and $2000 annual contribution is $513129\n",
      "Your total retirement money for 7% interest rate and $1000 annual contribution is $353270\n",
      "Your total retirement money for 7% interest rate and $1500 annual contribution is $529905\n",
      "Your total retirement money for 7% interest rate and $2000 annual contribution is $706540\n"
     ]
    }
   ],
   "source": [
    "initial = 18 \n",
    "final = 65\n",
    "interest_rate = [0.04, 0.05, 0.06, 0.07]\n",
    "money_added = [1000, 1500, 2000]\n",
    "for i in interest_rate:\n",
    "    for j in money_added:\n",
    "        retirement = []\n",
    "        total = 0\n",
    "        for year in range(initial, final + 1, 1):\n",
    "            total = total*(1 + i) + j\n",
    "            retirement.append(int(total))\n",
    "        print(\"Your total retirement money for\", str(int(i*100)) + \"% interest rate and $\" + str(j), \"annual contribution is $\" + str(retirement[-1]))\n"
   ]
  },
  {
   "cell_type": "markdown",
   "metadata": {},
   "source": [
    "## 4. Bringing in new customers\n",
    "\n",
    "Your boss says the bank is trying to attract customers that don't start saving for retirement until later in life, and they're trying to find a good way to do this. You suggest offering **double the usual interest rate** for people that don't start saving until they're 30. \n",
    "\n",
    "Your boss likes the idea and wants you to run the numbers. \n",
    "\n",
    "### &#9989;&nbsp; 4.1 Answering your Boss' Question, Code\n",
    "**Who would end up with more money saved: someone that starts saving at 18 with a normal interest rate, or someone that starts saving at 30 with double the interest rate?**"
   ]
  },
  {
   "cell_type": "code",
   "execution_count": 22,
   "metadata": {},
   "outputs": [
    {
     "name": "stdout",
     "output_type": "stream",
     "text": [
      "The total retirement money for someone who starts saving at 18 with a normal interest rate (6%) is $256564\n"
     ]
    }
   ],
   "source": [
    "initial = 18 \n",
    "final = 65\n",
    "interest_rate = 0.06\n",
    "retirement = []\n",
    "total = 0\n",
    "money_added = 1000\n",
    "for year in range(initial, final + 1, 1): \n",
    "    total = total*(1 + interest_rate) + money_added\n",
    "    retirement.append(int(total))\n",
    "print(\"The total retirement money for someone who starts saving at 18 with a normal interest rate (6%) is $\" + str(retirement[-1]))\n",
    "\n"
   ]
  },
  {
   "cell_type": "code",
   "execution_count": 23,
   "metadata": {},
   "outputs": [
    {
     "name": "stdout",
     "output_type": "stream",
     "text": [
      "The total retirement money for someone who starts saving at 18 with double the normal interest rate (12%) is $484463\n"
     ]
    }
   ],
   "source": [
    "initial = 30\n",
    "final = 65\n",
    "interest_rate = 0.06\n",
    "retirement = []\n",
    "total = 0\n",
    "money_added = 1000\n",
    "for year in range(initial, final + 1, 1): \n",
    "    total = total*(1 + 2*interest_rate) + money_added\n",
    "    retirement.append(int(total))\n",
    "print(\"The total retirement money for someone who starts saving at 18 with double the normal interest rate (12%) is $\" + str(retirement[-1]))"
   ]
  },
  {
   "cell_type": "markdown",
   "metadata": {},
   "source": [
    "### &#9989;&nbsp; 4.2 Answering your Boss' Question, Answer\n",
    "\n",
    "**Who would end up saving more money for retirement?**"
   ]
  },
  {
   "cell_type": "markdown",
   "metadata": {},
   "source": [
    "The person who started saving at 30 years old with double the interest rates gains about 200k dollars more"
   ]
  },
  {
   "cell_type": "markdown",
   "metadata": {},
   "source": [
    "---\n",
    "## Assignment wrap-up\n",
    "\n",
    "Please fill out the form that appears when you run the code below. ***For today's assignment, ignore the part about pre-class assignment.*  You must completely fill this out in order to receive credit for the assignment!** "
   ]
  },
  {
   "cell_type": "code",
   "execution_count": 24,
   "metadata": {},
   "outputs": [
    {
     "data": {
      "text/html": [
       "\n",
       "<iframe \n",
       "\tsrc=\"https://cmse.msu.edu/cmse201-ic-survey\" \n",
       "\twidth=\"800px\" \n",
       "\theight=\"600px\" \n",
       "\tframeborder=\"0\" \n",
       "\tmarginheight=\"0\" \n",
       "\tmarginwidth=\"0\">\n",
       "\tLoading...\n",
       "</iframe>\n"
      ],
      "text/plain": [
       "<IPython.core.display.HTML object>"
      ]
     },
     "execution_count": 24,
     "metadata": {},
     "output_type": "execute_result"
    }
   ],
   "source": [
    "from IPython.display import HTML\n",
    "HTML(\n",
    "\"\"\"\n",
    "<iframe \n",
    "\tsrc=\"https://cmse.msu.edu/cmse201-ic-survey\" \n",
    "\twidth=\"800px\" \n",
    "\theight=\"600px\" \n",
    "\tframeborder=\"0\" \n",
    "\tmarginheight=\"0\" \n",
    "\tmarginwidth=\"0\">\n",
    "\tLoading...\n",
    "</iframe>\n",
    "\"\"\"\n",
    ")"
   ]
  },
  {
   "cell_type": "markdown",
   "metadata": {},
   "source": [
    "## Congratulations, you're done!\n",
    "\n",
    "Submit this assignment by uploading it to the course Desire2Learn web page.  Go to the \"In-class assignments\" folder, find the appropriate submission link, and upload it there.\n",
    "\n",
    "See you next class!"
   ]
  },
  {
   "cell_type": "markdown",
   "metadata": {},
   "source": [
    "&#169; Copyright 2023,  Department of Computational Mathematics, Science and Engineering at Michigan State University."
   ]
  }
 ],
 "metadata": {
  "kernelspec": {
   "display_name": "Python 3 (ipykernel)",
   "language": "python",
   "name": "python3"
  },
  "language_info": {
   "codemirror_mode": {
    "name": "ipython",
    "version": 3
   },
   "file_extension": ".py",
   "mimetype": "text/x-python",
   "name": "python",
   "nbconvert_exporter": "python",
   "pygments_lexer": "ipython3",
   "version": "3.9.13"
  },
  "vscode": {
   "interpreter": {
    "hash": "31f2aee4e71d21fbe5cf8b01ff0e069b9275f58929596ceb00d14d90e3e16cd6"
   }
  }
 },
 "nbformat": 4,
 "nbformat_minor": 4
}
