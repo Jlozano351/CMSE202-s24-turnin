{
 "cells": [
  {
   "cell_type": "markdown",
   "metadata": {},
   "source": [
    "# Day 5 Pre-class Assignment: Boolean logic, if statements, and an introduction to functions"
   ]
  },
  {
   "cell_type": "markdown",
   "metadata": {},
   "source": [
    "### <p style=\"text-align: right;\"> &#9989; Juan José Lozano González</p>"
   ]
  },
  {
   "cell_type": "markdown",
   "metadata": {},
   "source": [
    "### Goals for Today's Pre-Class Assignment\n",
    "By the end of this assignment, you should be able to:\n",
    "* Use if/else statements with true/false (boolean) conditional statements in Python.\n",
    "* Write simple functions in Python\n",
    "\n",
    "### Assignment instructions\n",
    "\n",
    "Watch any videos below, read all included and linked to content, and complete any assigned programming problems.  Please get started early, and come to office hours if you have any questions and make use of Teams!\n",
    "\n",
    "**This assignment is due by 11:59 p.m. the day before class,** and should be uploaded into the appropriate \"Pre-class assignments\" submission folder.  Submission instructions can be found at the end of the notebook."
   ]
  },
  {
   "cell_type": "markdown",
   "metadata": {},
   "source": [
    "---\n",
    "## 1. Making decisions in Python\n",
    "\n",
    "Sometimes when we're writing a program, we run into a situation where the right next step is contigent on whether or not a particular condition is true or not. If it *is* true, we might want to do one thing, but if it *is not* true, we might want to do something else entirely. This is sometimes referred to as \"branching\". Basically, conditional statements, where something is evaluated to be `True` or `False`, allow Python to make decisions about how to move forward. When it comes to making decisions in Python, there are two ideas that you need to understand:\n",
    "1. The main command in Python is the `if` statement; or, more generally, the `if-then-else` construct\n",
    "2. Boolean logic (the conditional True/False statement) allows you to perform tests that return `True` or `False`, which you then use to move foward.\n",
    "\n",
    "Taken together, these two features of a programming language are essential for getting our codes to carry out complex tasks. These statments generally play a key role in data science as we often need the computer to sift through large data sets depending on what we wish to analyze.\n",
    "\n",
    "You should also pause for a moment to reflect on that fact that you're already been exposed to Boolean logic statement when you've written `while` loops. Basically, the `while` loops tells Python to keep doing the same thing until the conditional statement becomes `False`.\n",
    "\n",
    "**Now**, to learn more about boolean logic and if statements, watch the video below. <br>\n",
    "(If the YouTube video doesn't work, you can access a back-up version on [MediaSpace](https://mediaspace.msu.edu/media/Boolean+logic+and+%27if%27+statements/1_uml9tmi3))"
   ]
  },
  {
   "cell_type": "code",
   "execution_count": 1,
   "metadata": {},
   "outputs": [
    {
     "data": {
      "image/jpeg": "[encoded data removed]",
      "text/html": [
       "\n",
       "        <iframe\n",
       "            width=\"640\"\n",
       "            height=\"360\"\n",
       "            src=\"https://www.youtube.com/embed/cozbOliNwSs\"\n",
       "            frameborder=\"0\"\n",
       "            allowfullscreen\n",
       "            \n",
       "        ></iframe>\n",
       "        "
      ],
      "text/plain": [
       "<IPython.lib.display.YouTubeVideo at 0x205403337f0>"
      ]
     },
     "execution_count": 1,
     "metadata": {},
     "output_type": "execute_result"
    }
   ],
   "source": [
    "# Don't forget to watch the video in full-screen mode!\n",
    "from IPython.display import YouTubeVideo  \n",
    "YouTubeVideo(\"cozbOliNwSs\",width=640,height=360)  # Boolean logic and if statements"
   ]
  },
  {
   "cell_type": "markdown",
   "metadata": {},
   "source": [
    "---\n",
    "## 2. Practice with `if` statements\n",
    "\n",
    "\n",
    "Now that you've learned a bit about `if` statements in Python, let's get some practice with those conditional statements!\n",
    "\n",
    "Remember, `if` statements can be used for situations when we only want certain code to execute when a particular thing happens to be true.\n",
    "\n",
    "For example, the following code loops over a range of values but only actually prints the value if the value is greater than 5. Try running the code!"
   ]
  },
  {
   "cell_type": "code",
   "execution_count": null,
   "metadata": {},
   "outputs": [],
   "source": [
    "# loop over the values\n",
    "for i in range(11):\n",
    "    # If the value is great than 5, print it\n",
    "    if i > 5:\n",
    "        print(i)"
   ]
  },
  {
   "cell_type": "markdown",
   "metadata": {},
   "source": [
    "Note that `if` statements can be used with any conditional statement that returns a `True` or `False`. For example, we can also do something like checking to see if a number is evenly divisible by 2. For this, we can use the __`modulus operator`__, which is a represented by a __`%`__ sign in Python. When you use the __`%`__ sign, Python divides the first number by the second number and returns the remainder. Try running the following code."
   ]
  },
  {
   "cell_type": "code",
   "execution_count": null,
   "metadata": {},
   "outputs": [],
   "source": [
    "# loop over the values\n",
    "for i in range(11):\n",
    "    # If the value is divisible by 2, print it\n",
    "    if i%2 == 0:\n",
    "        print(i)"
   ]
  },
  {
   "cell_type": "markdown",
   "metadata": {},
   "source": [
    "&#9989;&nbsp; **Question**: What is the above code doing?"
   ]
  },
  {
   "cell_type": "markdown",
   "metadata": {},
   "source": [
    "<font size=\"+3\">&#9998;</font> *Put your answer here*"
   ]
  },
  {
   "cell_type": "markdown",
   "metadata": {},
   "source": [
    "### Using `and` and `or`:\n",
    "\n",
    "We can also perform `if` statements using multiple conditions. Let's say we want all the numbers in the range from 0 to 10 that are greater than 5 **and** divisible by 2. How might we do that? Review and run the code below. Make sure you understand what's happening."
   ]
  },
  {
   "cell_type": "code",
   "execution_count": null,
   "metadata": {},
   "outputs": [],
   "source": [
    "for i in range(11):\n",
    "    # If the value is greater than 5 and divisible by two, print it\n",
    "    # Notice that the word \"and\" is bold and in green, this means it serves a special purpose in Python\n",
    "    if i > 5 and i%2 == 0:\n",
    "        print(i)"
   ]
  },
  {
   "cell_type": "markdown",
   "metadata": {},
   "source": [
    "Now, what if we replace that `and` statement with an `or` statement? Try running the code!"
   ]
  },
  {
   "cell_type": "code",
   "execution_count": null,
   "metadata": {},
   "outputs": [],
   "source": [
    "for i in range(11):\n",
    "    # If the value is greater than five or divisible by 2, print it\n",
    "    # Notice that the word \"or\" is also bold and in green\n",
    "    if i > 5 or i%2==0:\n",
    "        print(i)"
   ]
  },
  {
   "cell_type": "markdown",
   "metadata": {},
   "source": [
    "&#9989;&nbsp; **Question**: How is the `or` statement different than the `and` statement?"
   ]
  },
  {
   "cell_type": "markdown",
   "metadata": {},
   "source": [
    "<font size=\"+3\">&#9998;</font> *Put your answer here*"
   ]
  },
  {
   "cell_type": "markdown",
   "metadata": {},
   "source": [
    "&#9989;&nbsp; **Task:** Define `x` to be a list of the numbers 1 through 10. Create loop that goes through all the numbers in `x` and, if that number is even, use a print statment to print \"This number is even:\" followed by the number. Put your solution in the code cell below."
   ]
  },
  {
   "cell_type": "code",
   "execution_count": null,
   "metadata": {},
   "outputs": [],
   "source": [
    "# Put your code here\n"
   ]
  },
  {
   "cell_type": "markdown",
   "metadata": {},
   "source": [
    "### Inside the block vs. outside the block:\n",
    "\n",
    "Remember that the number of spaces (or \"indentation\") before a given line of code determine which \"block\" it is in.  This is very important with `if` statements and can be especially confusing when nesting `if` statements and loops. "
   ]
  },
  {
   "cell_type": "markdown",
   "metadata": {},
   "source": [
    "**The code below tries to compute the sum of all the numbers from 1 to 10 that are larger than 6.**  Review the code, and try to predict the output before running it."
   ]
  },
  {
   "cell_type": "code",
   "execution_count": null,
   "metadata": {},
   "outputs": [],
   "source": [
    "# initializing the list\n",
    "greater_than_6_list = []\n",
    "\n",
    "for i in range(11):\n",
    "    print(\"i equals\",i)\n",
    "    if i > 6:\n",
    "        print(\"i is greater than 6\")\n",
    "    # appending the number that is greater than 6\n",
    "    greater_than_6_list.append(i)\n",
    "\n",
    "print(\"List of numbers to sum:\",greater_than_6_list)\n",
    "print(\"Sum of numbers is equal to:\",sum(greater_than_6_list))\n",
    "        "
   ]
  },
  {
   "cell_type": "markdown",
   "metadata": {},
   "source": [
    "&#9989;&nbsp; **Question**: What went wrong in the code above?"
   ]
  },
  {
   "cell_type": "markdown",
   "metadata": {},
   "source": [
    "<font size=\"+3\">&#9998;</font> *Put your answer here*"
   ]
  },
  {
   "cell_type": "markdown",
   "metadata": {},
   "source": [
    "&#9989;&nbsp; **Task:** Copy the above code to the cell below and fix it to correctly compute the sum of the numbers greater than 6."
   ]
  },
  {
   "cell_type": "code",
   "execution_count": null,
   "metadata": {},
   "outputs": [],
   "source": [
    "# Put your code here\n"
   ]
  },
  {
   "cell_type": "markdown",
   "metadata": {},
   "source": [
    "---\n",
    "## 3. More complex `if` statements\n",
    "\n",
    "Sometimes just using several simple `if` statements in our code isn't enough to make sure the program does what it is supposed to do. Other times even more complicated `if` statements that use `and` or `or` to combine multiple conditional statements aren't sufficent either, so what do we do then?\n",
    "\n",
    "You may often discover that you need to solve a problem that requires the code to do one thing if a particular condition is true and *something else* if that condition is not true. This is where the `else` command comes into play. Basically, the program knows to execute a certain piece of code when the `if` statement is true and a different piece of code for all other cases.\n",
    "\n",
    "We can actually build even more complicated code by using the `elif` or \"else-if\" statement, which is basically a second `if` statement that is only executed if the first `if` statement was not satisfied. We can even tag an `else` on the end of all of that as well. Below is a diagram that helps illustrate the flow of an `if-elif-else` statement.\n",
    "\n",
    "![If_Flow](https://cdn.programiz.com/sites/tutorial2program/files/Python_if_elif_else_statement.jpg)\n",
    "\n",
    "**Now**, watch the following video to get a sense for how all of these statements work together. The video starts out with some simple examples and then builds a progressively more complex bit of code that uses a combination of an `if` statement, a few `elif` statements, and a final `else` statement. <br>\n",
    "(If the YouTube video doesn't work, you can access a back-up version on [MediaSpace](https://mediaspace.msu.edu/media/Complex+%27if%27+statements/1_5lxv404t))"
   ]
  },
  {
   "cell_type": "code",
   "execution_count": null,
   "metadata": {},
   "outputs": [],
   "source": [
    "# Don't forget to watch the video in full-screen mode!\n",
    "from IPython.display import YouTubeVideo  \n",
    "YouTubeVideo(\"8_wSb927nH0\",width=640,height=360)  # Complex if statements"
   ]
  },
  {
   "cell_type": "markdown",
   "metadata": {},
   "source": [
    "&#9989;&nbsp; **Question**: Let's say that you were recently promoted to manager at work. While you're excited about all of the extra money that comes with the new position, you've started to realize that there's a bunch of extra responsbility associated with the job as well. One of those responsibilities is to create the work schedule based on all of the preferences of your new ~~minions~~ employees. You're thinking that you might be able to use a bit of Python to figure out which hours each person should work. Your employees have made the following requests:\n",
    "\n",
    "* Luke would like to work in the morning\n",
    "* Ningyu would like to work in the evening\n",
    "* Nate didn't submit his request\n",
    "* Justin would like to work in the evening\n",
    "* Katrina would like to work in the evening\n",
    "* Jacob would like to work in the morning\n",
    "\n",
    "Create a `for` loop that loops through the list of employee names (provided below) and prints out the following statements based on their preferences:\n",
    "\n",
    "* If the employee requested mornings, print \"You have to work from 9am-12pm.\"\n",
    "* If the employee requested evenings, print \"You have to work from 6-9pm.\"\n",
    "* If the employee failed to submit a request, print \"You have to work from 12-6pm.\"\n",
    "\n",
    "You can use any combination of `if`, `elif`, and `else` statements to get the job done."
   ]
  },
  {
   "cell_type": "code",
   "execution_count": null,
   "metadata": {},
   "outputs": [],
   "source": [
    "employees = ['Luke', 'Ningyu', 'Nate', 'Justin', 'Katrina', 'Jacob']\n",
    "\n",
    "# Put your code below this comment\n"
   ]
  },
  {
   "cell_type": "markdown",
   "metadata": {},
   "source": [
    "___\n",
    "## 4 Introduction to functions\n",
    "\n",
    "The last bit of this assignment is designed to get you start thinking about an extremely useful tool in Python, the Python **function** construct!\n",
    "\n",
    "Functions in Python are really handy when you have a bit of code that serves a specific purpose and you want to be able to use that bit of code over and over again without having to copy and paste it repeatedly. It also means that if you need to change how that code works, you can change the code inside the function and you don't have to change that code in several different places. Functions can also make your code much easier to read because you can compartmentalize your code into separate functions and then just call those function in the main body of your code."
   ]
  },
  {
   "cell_type": "markdown",
   "metadata": {},
   "source": [
    "### 4.1 What are functions and why would we use them?\n",
    "\n",
    "Watch the following video for an overview of what functions are and why they can be **extremely useful!** <br>\n",
    "(If the YouTube video doesn't work, you can access a back-up version on [MediaSpace](https://mediaspace.msu.edu/media/Introduction+to+Functions+in+Python/1_gn36jgpc))"
   ]
  },
  {
   "cell_type": "code",
   "execution_count": null,
   "metadata": {},
   "outputs": [],
   "source": [
    "# Don't forget to watch the video in full-screen mode!\n",
    "from IPython.display import YouTubeVideo\n",
    "YouTubeVideo(\"kY3yMXUu5qY\",width=640,height=360) # Intro to Functions!"
   ]
  },
  {
   "cell_type": "markdown",
   "metadata": {},
   "source": [
    "&#9989;&nbsp; **Question**: In your own words, explain what a function is and why it is a very useful tool in programming?"
   ]
  },
  {
   "cell_type": "markdown",
   "metadata": {},
   "source": [
    "<font size=\"+3\">&#9998;</font> *Put your answer here!*"
   ]
  },
  {
   "cell_type": "markdown",
   "metadata": {},
   "source": [
    "&#9989;&nbsp; **Question**: What are the three main things that functions provide?"
   ]
  },
  {
   "cell_type": "markdown",
   "metadata": {},
   "source": [
    "<font size=\"+3\">&#9998;</font> *Put your answer here!*"
   ]
  },
  {
   "cell_type": "markdown",
   "metadata": {},
   "source": [
    "### 4.2 How do we write functions in Python?\n",
    "\n",
    "Watch the following video, to learn how functions are written in Python.<br>\n",
    "(If the YouTube video doesn't work, you can access a back-up version on [MediaSpace](https://mediaspace.msu.edu/media/How+to+write+functions+in+Python/1_seuv967w))"
   ]
  },
  {
   "cell_type": "code",
   "execution_count": null,
   "metadata": {},
   "outputs": [],
   "source": [
    "# Don't forget to watch the video in full-screen mode!\n",
    "from IPython.display import YouTubeVideo\n",
    "YouTubeVideo(\"HWzDv1UHLZo\",width=640,height=360) # How do we write functions?"
   ]
  },
  {
   "cell_type": "markdown",
   "metadata": {},
   "source": [
    "&#9989;&nbsp; **Question**: What are the four main pieces that make up a function in Python?"
   ]
  },
  {
   "cell_type": "markdown",
   "metadata": {},
   "source": [
    "<font size=\"+3\">&#9998;</font> *Put your answer here!*"
   ]
  },
  {
   "cell_type": "markdown",
   "metadata": {},
   "source": [
    "&#9989;&nbsp; **Question**: What is the critical term needed to initially define a function?"
   ]
  },
  {
   "cell_type": "markdown",
   "metadata": {},
   "source": [
    "<font size=\"+3\">&#9998;</font> *Put your answer here!*"
   ]
  },
  {
   "cell_type": "markdown",
   "metadata": {},
   "source": [
    "&#9989;&nbsp; **Question**: How do you ensure that the results of your function are output in a way that will allow you to store the results in a new variable?"
   ]
  },
  {
   "cell_type": "markdown",
   "metadata": {},
   "source": [
    "<font size=\"+3\">&#9998;</font> *Put your answer here!*"
   ]
  },
  {
   "cell_type": "markdown",
   "metadata": {},
   "source": [
    "### 4.3 Practice with writing functions\n",
    "\n",
    "Watch the following video to review how you can write functions in Python. Pay attention to the different ways that you can output information from functions and input variables into functions.<br>\n",
    "(If the YouTube video doesn't work, you can access a back-up version on [MediaSpace](https://mediaspace.msu.edu/media/Practice+with+Functions+in+Python/1_9049fdj1))"
   ]
  },
  {
   "cell_type": "code",
   "execution_count": null,
   "metadata": {},
   "outputs": [],
   "source": [
    "# Don't forget to watch the video in full-screen mode!\n",
    "from IPython.display import YouTubeVideo\n",
    "YouTubeVideo(\"EXO3WYqlA6A\",width=640,height=360) # Practice writing functions"
   ]
  },
  {
   "cell_type": "markdown",
   "metadata": {},
   "source": [
    "&#9989;&nbsp; **Question**: Create (using _def_) a function that **returns** the length of a hypotenuse ($h$) given the lengths of the other two sides ($a$ and $b$). Remember that $h = \\sqrt{a^2 + b^2}$. Name your function to be \"`get_h`\". "
   ]
  },
  {
   "cell_type": "markdown",
   "metadata": {},
   "source": [
    "Note that the square root of `a` can be computed using `a**(1/2)`."
   ]
  },
  {
   "cell_type": "code",
   "execution_count": null,
   "metadata": {},
   "outputs": [],
   "source": [
    "a = 4\n",
    "b = a**(1/2)\n",
    "print(\"The square root of\",a,\"is\",b)"
   ]
  },
  {
   "cell_type": "code",
   "execution_count": null,
   "metadata": {},
   "outputs": [],
   "source": [
    "#Put your code here\n"
   ]
  },
  {
   "cell_type": "markdown",
   "metadata": {},
   "source": [
    "Run the function that you just created (\"`get_h`\"), and test to make sure it works in the cell below. \n",
    "\n",
    "Since the function __returns__ the result (instead of _printing_ the result), you need to create a new variable to store the value returned by your function. And then print out the value of this new variable to see whether it is what you expected. \n",
    "\n",
    "For example, if you provide the values as _a=3_ and _b=4_, the value returned by your function should be 5.0."
   ]
  },
  {
   "cell_type": "code",
   "execution_count": null,
   "metadata": {},
   "outputs": [],
   "source": [
    "#Put your code here\n"
   ]
  },
  {
   "cell_type": "markdown",
   "metadata": {},
   "source": [
    "## 4.4 Variable Scope\n",
    "\n",
    "When writing functions (or any Python code really), we have another important consideration we have not talked about yet commonly called [**Variable Scope**](https://www.w3schools.com/python/python_scope.asp). **Variable Scope** refers to where and when variables can be accessed. A variable can only be accessed in the region it is created. For example, if you type `a = 1` in one Jupyter notebook and then `print(a)` in another notebook, the print statement will throw an error.\n",
    "\n",
    "When writing functions, the goal is for them to reusable (meaning you can use them in other notebooks), so you must ensure that the function has everything it needs to execute the function call. Any variables that the function will use should be defined as input arguments, and any variables you want to access after running the function must be returned (and saved in your notebook as a new variable!). \n",
    "\n",
    "When you define a function in your notebook and run the cell, it is now loaded into your Jupyter notebook and can be called in any cell. It will remain defined in your notebook until you restart your Kernel or close the file. When you save the output or call the function, use unique variable names rather than overwriting previous variables. This will help your code be more clear and avoid hard-to-find bugs!\n",
    "\n",
    "The questions below will help you explore what variable scope looks like in a Jupyter notebook.\n",
    "\n",
    "---"
   ]
  },
  {
   "cell_type": "markdown",
   "metadata": {},
   "source": [
    "&#9989;&nbsp; **Question**: In the cell below, we have definde three variables, `favorite_animal`, `favorite_food`, and `favorite_season`. Write a `print()` statement that prints out those three variables."
   ]
  },
  {
   "cell_type": "code",
   "execution_count": null,
   "metadata": {},
   "outputs": [],
   "source": [
    "favorite_animal = 'otter'\n",
    "favorite_food = 'spaghetti carbonara'\n",
    "favorite_season = 'Fall'\n",
    "\n",
    "# put your code here"
   ]
  },
  {
   "cell_type": "markdown",
   "metadata": {},
   "source": [
    "&#9989;&nbsp; **Question**: In the cell below, we have redefined the values of `favorite_animal`, `favorite_food`, and `favorite_season`. \n",
    "\n",
    "**Before you run this cell**, copy and paste your print statement above into the first line of the cell and the last line of the cell. What do you notice about the output? "
   ]
  },
  {
   "cell_type": "code",
   "execution_count": null,
   "metadata": {},
   "outputs": [],
   "source": [
    "# put your print statement here\n",
    "\n",
    "favorite_animal = 'elephant'\n",
    "favorite_food = 'Chicken Parmesan'\n",
    "favorite_season = 'Spring'\n",
    "\n",
    "# put your print statement here too!"
   ]
  },
  {
   "cell_type": "markdown",
   "metadata": {},
   "source": [
    "&#9989;&nbsp; **Question**: In the cell below, you will see some code written but perhaps a little bit confusingly. Briefly describe what you see as potentially confusing about the code."
   ]
  },
  {
   "cell_type": "code",
   "execution_count": null,
   "metadata": {
    "scrolled": true
   },
   "outputs": [],
   "source": [
    "## What makes the code below a little confusing?\n",
    "\n",
    "favorite_animal = 'elephant'\n",
    "favorite_food = 'Chicken Parmesan'\n",
    "favorite_season = 'Spring'\n",
    "\n",
    "def my_favorite_things(favorite_animal = \"penguin\",favorite_food = \"Spaghetti and Meatballs\",favorite_season = \"Winter\"):\n",
    "    string_of_favorites = \"My favorite things are: \" + favorite_animal + ', ' + favorite_season + ', and ' + favorite_food + \".\"\n",
    "    return string_of_favorites\n",
    "\n",
    "print(my_favorite_things())\n",
    "print(my_favorite_things(favorite_animal, favorite_food, favorite_season))\n",
    "print(my_favorite_things(favorite_food=favorite_food))"
   ]
  },
  {
   "cell_type": "markdown",
   "metadata": {},
   "source": [
    "<font size=\"+3\">&#9998;</font> *Put your answer here!*"
   ]
  },
  {
   "cell_type": "markdown",
   "metadata": {},
   "source": [
    "&#9989;&nbsp; **Question**: In the cell below, there is a print statement that is throwing an error. Why is it throwing an error?"
   ]
  },
  {
   "cell_type": "code",
   "execution_count": null,
   "metadata": {},
   "outputs": [],
   "source": [
    "## Why does the code below throw an error message?\n",
    "\n",
    "print(string_of_favorites)"
   ]
  },
  {
   "cell_type": "markdown",
   "metadata": {},
   "source": [
    "<font size=\"+3\">&#9998;</font> *Put your answer here!*"
   ]
  },
  {
   "cell_type": "markdown",
   "metadata": {},
   "source": [
    "**For more information on defining functions in python, check out these links:**\n",
    "* [Tutorial on functions in python](https://docs.python.org/3/tutorial/controlflow.html#defining-functions)\n",
    "* [More function basics with executable examples](http://www.diveintopython3.net/your-first-python-program.html#declaringfunctions)\n",
    "\n",
    "**Important**: One of the things you should remember is that when you want a function to return a values (rather than just print it), the `return` command needs to go at the end of the function. The moment a function comes across a `return` statement, it will exit the function and ignore any code that comes later in the function."
   ]
  },
  {
   "cell_type": "markdown",
   "metadata": {},
   "source": [
    "---\n",
    "## Follow-up Questions\n",
    "\n",
    "Copy and paste the following questions into the appropriate box in the assignment survey include below and answer them there. (Note: You'll have to fill out the section number and the assignment number and go to the \"NEXT\" section of the survey to paste in these questions.)\n",
    "\n",
    "1. In your own words, what is the propose of conditional statements (e.g. `if`/`elif`/`else`) when writing code?\n",
    "\n",
    "2. In your own words, what makes functions a useful programming concept/tool?\n",
    "\n",
    "3. In your own words, how would you define \"variable scope\"?"
   ]
  },
  {
   "cell_type": "markdown",
   "metadata": {},
   "source": [
    "---\n",
    "## Assignment wrap-up\n",
    "\n",
    "Please fill out the form that appears when you run the code below.  **You must completely fill this out in order to receive credit for the assignment!**"
   ]
  },
  {
   "cell_type": "code",
   "execution_count": null,
   "metadata": {},
   "outputs": [],
   "source": [
    "from IPython.display import HTML\n",
    "HTML(\n",
    "\"\"\"\n",
    "<iframe \n",
    "\tsrc=\"https://cmse.msu.edu/cmse201-pc-survey\" \n",
    "\twidth=\"800\" \n",
    "\theight=\"800px\" \n",
    "\tframeborder=\"0\" \n",
    "\tmarginheight=\"0\" \n",
    "\tmarginwidth=\"0\">\n",
    "\tLoading...\n",
    "</iframe>\n",
    "\"\"\"\n",
    ")"
   ]
  },
  {
   "cell_type": "markdown",
   "metadata": {},
   "source": [
    "### Congratulations, you're done!\n",
    "\n",
    "Submit this assignment by uploading it to the course Desire2Learn web page.  Go to the \"Pre-class assignments\" folder, find the appropriate dropbox link, and upload it there.\n",
    "\n",
    "See you in class!"
   ]
  },
  {
   "cell_type": "markdown",
   "metadata": {},
   "source": [
    "&#169; Copyright 2022,  Michigan State University Board of Trustees"
   ]
  }
 ],
 "metadata": {
  "kernelspec": {
   "display_name": "Python 3 (ipykernel)",
   "language": "python",
   "name": "python3"
  },
  "language_info": {
   "codemirror_mode": {
    "name": "ipython",
    "version": 3
   },
   "file_extension": ".py",
   "mimetype": "text/x-python",
   "name": "python",
   "nbconvert_exporter": "python",
   "pygments_lexer": "ipython3",
   "version": "3.9.13"
  },
  "vscode": {
   "interpreter": {
    "hash": "31f2aee4e71d21fbe5cf8b01ff0e069b9275f58929596ceb00d14d90e3e16cd6"
   }
  }
 },
 "nbformat": 4,
 "nbformat_minor": 4
}
