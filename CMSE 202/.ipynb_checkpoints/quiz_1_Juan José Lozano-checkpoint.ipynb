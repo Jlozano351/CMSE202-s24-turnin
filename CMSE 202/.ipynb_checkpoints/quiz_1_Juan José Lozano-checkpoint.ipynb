{
 "cells": [
  {
   "cell_type": "markdown",
   "id": "3964a7ea",
   "metadata": {},
   "source": [
    "## <p style=\"text-align: right;\"> &#9989; Put your name here</p>"
   ]
  },
  {
   "cell_type": "markdown",
   "id": "acac1466",
   "metadata": {},
   "source": [
    "# CMSE 201: Quiz 1 (Section 003 - Spring 2023)\n",
    "\n",
    "The goal of this quiz is to give you the opportunity to test out some of the skills that you've developed thus far this semester. In particular, you'll reflect on what you know about writing code using Python and showcase some of your new programming skills.\n",
    "\n",
    "**Important note about using online resources**: This exam is \"open internet\". That means that you can look up documentation, google how to accomplish certain Python tasks, etc. Being able to effectively use the internet for computational modeling and data science is a very important skill, so we want to make sure you have the opportunity to exercise that skill. **However, the use of any person-to-person communication software is absolutely not acceptable.**\n",
    "\n",
    "**Do your own work.** This quiz is designed to give *you* the opportunity to show the instructor what you can do and you should hold yourself accountable for maintaining a high level of academic integrity. Any violation of academic integrity could result in you receiving a zero on the quiz."
   ]
  },
  {
   "cell_type": "markdown",
   "id": "b62afbce",
   "metadata": {},
   "source": [
    "---\n",
    "# Academic integrity statement [10 points]\n",
    "\n",
    "In the markdown cell below, put your personal academic integrity statement. By including this statement, you are confirming that you are submitting this as your own work and not that of someone else.\n"
   ]
  },
  {
   "cell_type": "markdown",
   "id": "56f185d4",
   "metadata": {},
   "source": [
    "I, Juan José Lozano, as a member of the student body at MSU, promise to uphold the utmost academic integrity in all of my work. It is my duty as a Spartan to perform to the level of responsibility that is expected of me in this institution - an institution with high standards of academic integrity. This means being diligent in following academic guidelines and regulations and being transparent about my sources and methods. I will be committed to fostering a culture of academic integrity within my peers and strive to be an exemplary member of the MSU community."
   ]
  },
  {
   "cell_type": "markdown",
   "id": "c3253413",
   "metadata": {},
   "source": [
    "---\n",
    "\n",
    "# Calculating Costs\n",
    "\n",
    "You work for a bookstore and need to calculate the cost of textbooks needed by a group of students. You have the following three lists:\n",
    "\n",
    "- One with the name of the textbook;\n",
    "- One with the quantity of the textbook that students need;\n",
    "- One with the price of the book.\n",
    "\n",
    "You need to calculate the total cost of selling the books by multiplying the quantity of each book by its corresponding price, and then summing up the results."
   ]
  },
  {
   "cell_type": "code",
   "execution_count": 24,
   "id": "2f7113a2",
   "metadata": {},
   "outputs": [
    {
     "name": "stdout",
     "output_type": "stream",
     "text": [
      "The total cost of selling the books is equal to 105250 USD\n"
     ]
    }
   ],
   "source": [
    "book_names = [\"Science\", \"Accounting\", \"Art\", \"Biology\", \"History\", \"Business\"]\n",
    "book_quantity = [100, 50, 500, 2500, 100, 10]\n",
    "book_prices_in_USD = [25, 25, 100, 20, 12, 30]"
   ]
  },
  {
   "cell_type": "markdown",
   "id": "8723e0ce",
   "metadata": {},
   "source": [
    "Your bookstore needs a piece of code that will calculate the total cost of books for each type. To calculate the total cost *for one item*, the item's price must be multiplied by the quantity needed (E.g., the total cost of Science book is \\\\$25 per book $\\times$ 100 books $=$ \\\\$2500.) The cost of all books is the sum of the costs of each book.\n",
    "\n",
    "Your boss started to write this bit of code (below), but part way through they ran into an error they couldn’t figure out. \n",
    "\n",
    "**You do not need to modify the following code block for answering Part 1.**"
   ]
  },
  {
   "cell_type": "code",
   "execution_count": 18,
   "id": "f25aea55",
   "metadata": {},
   "outputs": [
    {
     "ename": "TypeError",
     "evalue": "'list' object cannot be interpreted as an integer",
     "output_type": "error",
     "traceback": [
      "\u001b[1;31m---------------------------------------------------------------------------\u001b[0m",
      "\u001b[1;31mTypeError\u001b[0m                                 Traceback (most recent call last)",
      "\u001b[1;32m~\\AppData\\Local\\Temp\\ipykernel_14520\\2323750328.py\u001b[0m in \u001b[0;36m<module>\u001b[1;34m\u001b[0m\n\u001b[0;32m      1\u001b[0m \u001b[0mall_books_total_cost\u001b[0m \u001b[1;33m=\u001b[0m \u001b[1;33m[\u001b[0m\u001b[1;33m]\u001b[0m\u001b[1;33m\u001b[0m\u001b[1;33m\u001b[0m\u001b[0m\n\u001b[0;32m      2\u001b[0m \u001b[1;33m\u001b[0m\u001b[0m\n\u001b[1;32m----> 3\u001b[1;33m \u001b[1;32mfor\u001b[0m \u001b[0mjj\u001b[0m \u001b[1;32min\u001b[0m \u001b[0mrange\u001b[0m\u001b[1;33m(\u001b[0m\u001b[0mbook_quantity\u001b[0m\u001b[1;33m)\u001b[0m\u001b[1;33m:\u001b[0m\u001b[1;33m\u001b[0m\u001b[1;33m\u001b[0m\u001b[0m\n\u001b[0m\u001b[0;32m      4\u001b[0m     \u001b[0mbook_total_cost\u001b[0m \u001b[1;33m=\u001b[0m \u001b[0mbook_quantity\u001b[0m\u001b[1;33m[\u001b[0m\u001b[0mjj\u001b[0m\u001b[1;33m]\u001b[0m \u001b[1;33m*\u001b[0m \u001b[0mbook_prices_in_USD\u001b[0m\u001b[1;33m[\u001b[0m\u001b[0mjj\u001b[0m\u001b[1;33m]\u001b[0m\u001b[1;33m\u001b[0m\u001b[1;33m\u001b[0m\u001b[0m\n\u001b[0;32m      5\u001b[0m     \u001b[0mall_books_total_cost\u001b[0m\u001b[1;33m.\u001b[0m\u001b[0mappend\u001b[0m\u001b[1;33m(\u001b[0m\u001b[0mall_books_total_cost\u001b[0m\u001b[1;33m)\u001b[0m\u001b[1;33m\u001b[0m\u001b[1;33m\u001b[0m\u001b[0m\n",
      "\u001b[1;31mTypeError\u001b[0m: 'list' object cannot be interpreted as an integer"
     ]
    }
   ],
   "source": [
    "all_books_total_cost = []\n",
    "\n",
    "for jj in range(book_quantity):\n",
    "    book_total_cost = book_quantity[jj] * book_prices_in_USD[jj]\n",
    "    all_books_total_cost.append(all_books_total_cost)\n",
    "print(all_books_total_cost)"
   ]
  },
  {
   "cell_type": "markdown",
   "id": "b9dcc7ad",
   "metadata": {},
   "source": [
    "&#9989;&nbsp; **Part 1 (25 points):** In the cell below, describe the bug in the code and how you solved it. Specifically, provide the following information: \n",
    "1. The line of code that caused the error(s)\n",
    "2. (Where appropriate) The error code\n",
    "3. A plain english description of the error(s) in the code\n",
    "4. How you solved the error(s)"
   ]
  },
  {
   "cell_type": "markdown",
   "id": "37547bb0",
   "metadata": {},
   "source": [
    "1.\n",
    "There were 2 mistakes, first here:\n",
    "\n",
    "3| for jj in range(book_quantity):\n",
    "\n",
    "Here my boss should have written \"for jj in range(len(book_quantity)):\" as \"book_quantity\" is a list and cannot be used as the argument for the range function.\n",
    "\n",
    "The error code was: TypeError: 'list' object cannot be interpreted as an integer\n",
    "\n",
    "plain english \"The range function need a number to work, seeing as a list is not a number there was an error\"\n",
    "\n",
    "The second mistake was here:\n",
    "\n",
    "5| all_books_total_cost.append(all_books_total_cost)\n",
    "\n",
    "where my boss should have written \"all_books_total_cost.append(book_total_cost)\" as the previous code was just appending the empty list \"all_books_total_cost\" to itself.\n",
    "\n",
    "There was no error code for this mistake, its just that the code didn't do what we wanted it to.\n",
    "\n",
    "Plain english \"Instead of adding to the list \"all_books_total_cost\" the value we found we were adding the list to itself, which returend a list of empty lists\""
   ]
  },
  {
   "cell_type": "markdown",
   "id": "145b9bad",
   "metadata": {},
   "source": [
    "&#9989;&nbsp; **Part 2 (15 points):** In the empty code cell below, rewrite the buggy code so that it works properly."
   ]
  },
  {
   "cell_type": "code",
   "execution_count": 19,
   "id": "5c725b43",
   "metadata": {},
   "outputs": [
    {
     "name": "stdout",
     "output_type": "stream",
     "text": [
      "[2500, 1250, 50000, 50000, 1200, 300]\n"
     ]
    }
   ],
   "source": [
    "#Here is the debugged code\n",
    "all_books_total_cost = []\n",
    "\n",
    "for jj in range(len(book_quantity)):\n",
    "    book_total_cost = book_quantity[jj] * book_prices_in_USD[jj]\n",
    "    all_books_total_cost.append(book_total_cost)\n",
    "print(all_books_total_cost)\n"
   ]
  },
  {
   "cell_type": "markdown",
   "id": "8a45e85f",
   "metadata": {},
   "source": [
    "&#9989;&nbsp; **Part 3 (25 points):** Is this code looping by index or looping by value? Could you solve the problem using the other kind of `for` loop? If so, rewrite the code (in the code cell below) using the other form of looping. If not, rewrite the code into a while loop."
   ]
  },
  {
   "cell_type": "markdown",
   "id": "0dce1f7a",
   "metadata": {},
   "source": [
    "<font size=+3>&#9998;</font> The code is looping by index as the for loop \"for jj in range(len(book_quantity)):\" outputs a value that we then use as an index."
   ]
  },
  {
   "cell_type": "code",
   "execution_count": 37,
   "id": "b16e2211",
   "metadata": {},
   "outputs": [
    {
     "name": "stdout",
     "output_type": "stream",
     "text": [
      "[2500, 1250, 50000, 50000, 1200, 300]\n"
     ]
    }
   ],
   "source": [
    "all_books_total_cost = []\n",
    "k=0\n",
    "while k <= len(book_names)-1:\n",
    "    for i in book_quantity:\n",
    "        values = []\n",
    "        for j in book_prices_in_USD:\n",
    "            values.append(i*j)\n",
    "        all_books_total_cost.append(values[k])\n",
    "        k = k+1\n",
    "print(all_books_total_cost)\n",
    "\n",
    "#This is my best try, all of the for loops are looping by value.\n"
   ]
  },
  {
   "cell_type": "code",
   "execution_count": 6,
   "id": "3d73c83c",
   "metadata": {},
   "outputs": [
    {
     "name": "stdout",
     "output_type": "stream",
     "text": [
      "[2500, 1250, 50000, 50000, 1200, 300]\n"
     ]
    }
   ],
   "source": [
    "all_books_total_cost = []\n",
    "\n",
    "jj = 0\n",
    "while jj < len(book_quantity):\n",
    "    book_total_cost = book_quantity[jj]*book_prices_in_USD[jj]\n",
    "    all_books_total_cost.append(book_total_cost)\n",
    "    jj = jj + 1\n",
    "print(all_books_total_cost)"
   ]
  },
  {
   "cell_type": "markdown",
   "id": "17eb9221",
   "metadata": {},
   "source": [
    "&#9989;&nbsp; **Part 4 (25 points):** The purpose of this code is to calculate the total cost of books. In the cell below, modify the code above so that it calculates the total cost of all of the books. Your code should also print out the total cost."
   ]
  },
  {
   "cell_type": "code",
   "execution_count": 25,
   "id": "505e5f3b",
   "metadata": {},
   "outputs": [
    {
     "name": "stdout",
     "output_type": "stream",
     "text": [
      "The total cost of all books is 105250 USD\n"
     ]
    }
   ],
   "source": [
    "total_value = 0\n",
    "for i in all_books_total_cost:\n",
    "    total_value = total_value + i \n",
    "print (\"The total cost of all books is \"+str(total_value)+\" USD\")"
   ]
  },
  {
   "cell_type": "markdown",
   "id": "5997633e",
   "metadata": {},
   "source": [
    "---\n",
    "\n",
    "### Congratulations, you're done!\n",
    "\n",
    "Submit this quiz by uploading it to the course Desire2Learn web page.  Go to the \"Quizzes\" section, find the submission folder link for Quiz #1, and upload it there."
   ]
  }
 ],
 "metadata": {
  "kernelspec": {
   "display_name": "Python 3 (ipykernel)",
   "language": "python",
   "name": "python3"
  },
  "language_info": {
   "codemirror_mode": {
    "name": "ipython",
    "version": 3
   },
   "file_extension": ".py",
   "mimetype": "text/x-python",
   "name": "python",
   "nbconvert_exporter": "python",
   "pygments_lexer": "ipython3",
   "version": "3.9.13"
  }
 },
 "nbformat": 4,
 "nbformat_minor": 5
}
