{
 "cells": [
  {
   "cell_type": "markdown",
   "metadata": {},
   "source": [
    "# In-class Assignment: We have a Zoo!\n",
    "# Day 6\n",
    "# CMSE 202\n",
    "<img src=\"https://images.thedirect.com/media/article_full/mada.jpg\" width=500px>"
   ]
  },
  {
   "cell_type": "markdown",
   "metadata": {},
   "source": [
    "### <p style=\"text-align: right;\"> &#9989; Juan José Lozano González.\n",
    "<p style=\"text-align: right;\"> &#9989; Put your group member names here."
   ]
  },
  {
   "cell_type": "markdown",
   "metadata": {},
   "source": [
    "## Learning Goals:\n",
    "\n",
    "By the end of this assignment you should be able to:\n",
    "\n",
    "* Review code that uses built-in and/or custom written Python objects (classes)\n",
    "* Use objects in connection to other variable types in Python.\n",
    "\n",
    "## Assignment instructions\n",
    "\n",
    "Work with your group to complete this assignment. Instructions for submitting this assignment are at the end of the notebook. The assignment is due at the end of class.\n",
    "\n",
    "## Agenda for today:\n",
    "\n",
    "1. [Creating a Zoo using the `Animal` object](#creating)\n",
    "2. [Let's assemble a Zoo](#assemble)\n",
    "3. [Printing some information about the Zoo](#printing)\n",
    "4. [Visualizing some information about your Zoo (time permitting)](#visualize)\n",
    "\n",
    "### Download an additional file\n",
    "\n",
    "There is an extra file that you need for this assignment named \"Animal.py\". **Make sure you download that file and put it in the same location as this Jupyter notebook**. The file contains the definition of the class you will use in the assignment. You can get it here:\n",
    "\n",
    "`https://raw.githubusercontent.com/msu-cmse-courses/cmse202-supplemental-data/main/code_samples/Animal.py`"
   ]
  },
  {
   "cell_type": "markdown",
   "metadata": {},
   "source": [
    "---\n",
    "<a id=\"creating\"></a>\n",
    "## 1: Creating a Zoo using the `Animal` object\n",
    "\n",
    "The objective of this assignment is to create a Zoo with various numbers of animals and various species. The `Animal` object is already prepared and available in file `Animal.py` (check that you downloaded the file and put it in the right location).\n",
    "\n",
    "**&#9989; Do This:** **Open the file and look how the object is written**.\n",
    "\n",
    "Before creating a Zoo, discuss with your group how you will define some of the parameters you will need for your Zoo and for each animal in the Zoo:\n",
    " - The animals (species) you will have in your Zoo\n",
    " - The number of zookeepers needed to take care of **each animal**; can be a fraction: 0.2 means one zookeeper can take care of 5 animals\n",
    " - the area required in the Zoo for **each animal**; this can be an average value per animal (i.e. if 10 zebras require 10,000 $m^2$, use 1000 for each zebra)\n",
    "\n",
    "**&#9989; Do This:** **Create one or more dictionaries and store your estimated values into those dictionaries for later use**.\n",
    "\n",
    "**Suggestion:** Write out the list of animals you decided to \"have\" in the Zoo and then define values for each of them. Use a collaborative document or whiteboard as necessary!\n"
   ]
  },
  {
   "cell_type": "code",
   "execution_count": 56,
   "metadata": {},
   "outputs": [
    {
     "name": "stdout",
     "output_type": "stream",
     "text": [
      "{'lion': [600, 2], 'zebra': [600, 1], 'emu': [600, 1], 'giant armadillo': [300, 0.25], 'capibara': [700, 0.25], 'leopard': [600, 2], 'puma': [600, 2]}\n"
     ]
    }
   ],
   "source": [
    "animals_dict = {}\n",
    "\n",
    "animal_list = [\"lion\", \"zebra\", \"emu\", \"giant armadillo\", \"capibara\", \"leopard\", \"puma\"]\n",
    "animal_list_attributes = [[600,2], [600,1], [600,1], [300,0.25], [700,0.25], [600,2], [600,2]]\n",
    "\n",
    "for i in range(len(animal_list)):\n",
    "    animals_dict[animal_list[i]] = animal_list_attributes[i]\n",
    "\n",
    "print(animals_dict)"
   ]
  },
  {
   "cell_type": "markdown",
   "metadata": {},
   "source": [
    "### 1.1 Initialization \n",
    "\n",
    "**&#9989; Do This:** Do not forget to run the cell below. The cell imports necessary modules, `numpy` and `matplotlib`, and also our new `Animal` module, which contains the definition of the class `Animal` that we will use during the assignment."
   ]
  },
  {
   "cell_type": "code",
   "execution_count": 57,
   "metadata": {},
   "outputs": [],
   "source": [
    "import numpy as np\n",
    "import matplotlib.pyplot as plt\n",
    "# import animal class from the Python script\n",
    "from Animal import Animal\n",
    "# The magic command below instructs Jupyter Notebook to automatically load classes and methods from external files \n",
    "# in case they have changed from last load time;\n",
    "# This is needed when you change the Animal.py file\n",
    "%reload_ext autoreload\n",
    "%autoreload 2"
   ]
  },
  {
   "cell_type": "markdown",
   "metadata": {},
   "source": [
    "### 1.2 Create a single Animal object\n",
    "\n",
    "First create one `Animal` object to practice creating objects. Store this object as the variable `alex`. You can use code from pre-class assignment for creating objects or fill-in missing pieces in the code below.\n"
   ]
  },
  {
   "cell_type": "code",
   "execution_count": 58,
   "metadata": {},
   "outputs": [],
   "source": [
    "# put your code here or complete the provided code\n",
    "# define parameters to method Animal(); look into file Animal.py or add new cell and use command 'Animal.Animal?' to see the required parameters\n",
    "alex = Animal(\"lion\", \"alex\")\n",
    "# add the area\n",
    "alex.set_required_area(animals_dict[alex.kind][0])\n",
    "# add also number of keepers using method `set_number_keepers()`\n",
    "alex.set_number_keepers(animals_dict[alex.kind][1])"
   ]
  },
  {
   "cell_type": "markdown",
   "metadata": {},
   "source": [
    "**&#9989; Do This:** Once you've created your `alex` animal, run the following cell to test that everything is working as intended."
   ]
  },
  {
   "cell_type": "code",
   "execution_count": 59,
   "metadata": {},
   "outputs": [
    {
     "name": "stdout",
     "output_type": "stream",
     "text": [
      "alex is a lion and requires 600 m^2 of space and 2 keepers to be happy.\n"
     ]
    }
   ],
   "source": [
    "# test your new object; no error should occur and you should see the values you defined above\n",
    "print(\"{0} is a {1} and requires {2} m^2 of space and {3} keepers to be happy.\".format(alex.get_name(), alex.get_kind(), alex.get_required_area(), alex.get_number_keepers()))\n"
   ]
  },
  {
   "cell_type": "markdown",
   "metadata": {},
   "source": [
    "---\n",
    "<a id=\"assemble\"></a>\n",
    "## 2: Let's assemble a Zoo\n",
    "\n",
    "**&#9989; Do This:** Create a list that will contain all the `Animal` objects that will be stored in the Zoo. First create an object for each animal (re-use the code above for each animal), define all attributes (name, kind, arrival date, area, and keepers) and then add the object to the list (using the function `append()` function). **You should put at least 5 animals in your Zoo.**\n"
   ]
  },
  {
   "cell_type": "code",
   "execution_count": 60,
   "metadata": {},
   "outputs": [],
   "source": [
    "# put your code here\n",
    "\n",
    "# This list will be used for storing all of your Zoo animals\n",
    "zoo = []\n",
    "\n",
    "# Define your Zoo animals\n",
    "animal_attributes_for_zoo = [[\"lion\", \"marty\",'2023-01-30'], [\"zebra\", \"stripes\",'2022-07-15'], [\"emu\",\"veteran\",'2021-11-05'], [\"giant armadillo\",\"ocarro\",'2020-04-20'], [\"capibara\", \"cocoa\",'2019-09-10'], [\"leopard\",\"spots\",'2018-12-25'], [\"puma\",\"montaña\",'2017-06-03']]\n",
    "\n",
    "for i in range(len(animal_attributes_for_zoo)):\n",
    "    zoo.append(Animal(*animal_attributes_for_zoo[i][:2]))\n",
    "    # add the area\n",
    "    zoo[i].set_required_area(animals_dict[zoo[i].kind][0])\n",
    "    # add also number of keepers using method `set_number_keepers()`\n",
    "    zoo[i].set_number_keepers(animals_dict[zoo[i].kind][1])\n",
    "    # and date it was brought to the zoo\n",
    "    zoo[i].set_arrive_to_zoo(animal_attributes_for_zoo[i][2])\n",
    "\n",
    "\n"
   ]
  },
  {
   "cell_type": "markdown",
   "metadata": {},
   "source": [
    "### Test: Who are the animals in the Zoo?\n",
    "\n",
    "**&#9989; Do This:** Run the code to print out the animals in your Zoo. Since we are using objects (objects contain all necessary information about object itself), the code should run without errors and print names of the animals in the Zoo."
   ]
  },
  {
   "cell_type": "code",
   "execution_count": 61,
   "metadata": {},
   "outputs": [
    {
     "name": "stdout",
     "output_type": "stream",
     "text": [
      "marty is a lion.\n",
      "stripes is a zebra.\n",
      "veteran is a emu.\n",
      "ocarro is a giant armadillo.\n",
      "cocoa is a capibara.\n",
      "spots is a leopard.\n",
      "montaña is a puma.\n"
     ]
    }
   ],
   "source": [
    "# printing all animals in the ZOO\n",
    "# !!! add the name of your list variable to the \"for\" loop!!!\n",
    "for animal in zoo:\n",
    "    # print all animals in the ZOO\n",
    "    print(\"{0} is a {1}.\".format(animal.get_name(), animal.get_kind()))\n",
    "    "
   ]
  },
  {
   "cell_type": "markdown",
   "metadata": {},
   "source": [
    "---\n",
    "<a id=\"printing\"></a>\n",
    "## 3: Printing some information about the Zoo\n",
    "\n",
    "Now with the Zoo defined, we can print out some more or less interesting facts about our Zoo.\n",
    "\n",
    "**&#9989; Do This:** Write the code into each cell to print the following information. **Remember to use the `Animal` object methods as much as possible!**\n",
    "   - number of animals in the Zoo\n",
    "   - number of people you need to hire (round up to next integer number!) to take care of the animals\n",
    "   - total area required for the Zoo\n",
    "   - For today's date, print the average number of days the animals have spent in the Zoo so far (**hint**: there's a function that returns how long an individual animal has been in the zoo!)\n",
    "   - print names of animals, together with their kind in alphabetical order (e.g. \"Alex, lion\");\n"
   ]
  },
  {
   "cell_type": "code",
   "execution_count": 62,
   "metadata": {},
   "outputs": [
    {
     "name": "stdout",
     "output_type": "stream",
     "text": [
      "there are 7 animals in the zoo\n"
     ]
    }
   ],
   "source": [
    "# print number of animals in the Zoo\n",
    "print(f\"there are {len(zoo)} animals in the zoo\")\n"
   ]
  },
  {
   "cell_type": "code",
   "execution_count": 63,
   "metadata": {},
   "outputs": [
    {
     "name": "stdout",
     "output_type": "stream",
     "text": [
      "9.0 zookepers are needed\n"
     ]
    }
   ],
   "source": [
    "# print number of people you need to hire (round up to next integer number!) to take care for animals\n",
    "import numpy as np\n",
    "\n",
    "container = np.zeros(len(zoo))\n",
    "\n",
    "for i in range(len(zoo)):\n",
    "    container[i] = zoo[i].required_staff\n",
    "\n",
    "print(f\"{np.ceil(np.sum(container))} zookepers are needed\")"
   ]
  },
  {
   "cell_type": "code",
   "execution_count": 64,
   "metadata": {},
   "outputs": [
    {
     "name": "stdout",
     "output_type": "stream",
     "text": [
      "area of the zoo is 4000.0 m^2\n"
     ]
    }
   ],
   "source": [
    "# print total area of the ZOO\n",
    "import numpy as np\n",
    "\n",
    "container = np.zeros(len(zoo))\n",
    "\n",
    "for i in range(len(zoo)):\n",
    "    container[i] = zoo[i].required_area\n",
    "\n",
    "print(f\"area of the zoo is {np.sum(container)} m^2\")"
   ]
  },
  {
   "cell_type": "code",
   "execution_count": 65,
   "metadata": {},
   "outputs": [
    {
     "name": "stdout",
     "output_type": "stream",
     "text": [
      "area of the zoo is 4000.0 m^2\n"
     ]
    }
   ],
   "source": [
    "# print the average duration of days the animals are in your Zoo. Look at Animal.py to determine if there is a function that can help with this...\n",
    "import numpy as np\n",
    "\n",
    "container = np.zeros(len(zoo))\n",
    "\n",
    "for i in range(len(zoo)):\n",
    "    container[i] = zoo[i].required_area\n",
    "\n",
    "print(f\"area of the zoo is {np.sum(container)} m^2\")"
   ]
  },
  {
   "cell_type": "code",
   "execution_count": 66,
   "metadata": {},
   "outputs": [
    {
     "name": "stdout",
     "output_type": "stream",
     "text": [
      "average days of the animals in the zoo at the zoo is 1288.857142857143 days\n"
     ]
    }
   ],
   "source": [
    "# print names of animals in alphabetical order, together with their kind (example: Alex, lion)\n",
    "# hint: store all names of animals in a list and use the sort method to sort the list\n",
    "import numpy as np\n",
    "\n",
    "container = np.zeros(len(zoo))\n",
    "\n",
    "for i in range(len(zoo)):\n",
    "    container[i] = zoo[i].days_in_zoo()\n",
    "\n",
    "print(f\"average days of the animals in the zoo at the zoo is {np.sum(container)/len(container)} days\")"
   ]
  },
  {
   "cell_type": "markdown",
   "metadata": {},
   "source": [
    "---\n",
    "<a id=\"visualize\"></a>\n",
    "## 4: Visualizing some information about your Zoo (time permitting)"
   ]
  },
  {
   "cell_type": "markdown",
   "metadata": {},
   "source": [
    "**&#9989; Do This:** Using the animal objects that you used to create your Zoo, do some additional data manipulation, and plot the following:\n",
    " - bar plot of number of animals of each kind (number of lions, zebras, etc.)\n",
    " \n",
    "**Hint(s):** There are many ways to do this, two possible ways are:\n",
    " - using `matplotlib.pyplot`: use method `bar()` for plotting. The method requires two lists: one for animal types (X axis), the other for number of each animal type (Y axis):\n",
    "   - using a dictionary makes it easier to store animal types and their count\n",
    "   - check methods `keys()` and `values()` how to get lists of keys and values from a dictionary\n",
    " <br><br>  \n",
    " - using `pandas`: use method `plot(kind='bar')`. Pandas also has a method `value_counts()` that might be useful to create data necessary for bar plot."
   ]
  },
  {
   "cell_type": "code",
   "execution_count": 67,
   "metadata": {},
   "outputs": [
    {
     "data": {
      "image/png": "[encoded data removed]",
      "text/plain": [
       "<Figure size 640x480 with 1 Axes>"
      ]
     },
     "metadata": {},
     "output_type": "display_data"
    }
   ],
   "source": [
    "%matplotlib inline\n",
    "\n",
    "animals_at_zoo = []\n",
    "for i in range(len(zoo)):\n",
    "    animals_at_zoo.append(zoo[i].kind)\n",
    "\n",
    "# sets only allow unique values\n",
    "unique_values = list(set(animals_at_zoo))\n",
    "dictionary = {}\n",
    "\n",
    "for i in range(len(unique_values)):\n",
    "    dictionary[unique_values[i]] = animals_at_zoo.count(unique_values[i])\n",
    "\n",
    "# Plot the histogram\n",
    "keys = list(dictionary.keys())\n",
    "values = list(dictionary.values())\n",
    "\n",
    "plt.bar(keys, values)\n",
    "plt.xlabel('Animal Types')\n",
    "plt.ylabel('Number of Animals')\n",
    "plt.title('Number of Animals by Type at the Zoo')\n",
    "plt.xticks(rotation=45, ha='right') \n",
    "plt.tight_layout()  "
   ]
  },
  {
   "cell_type": "markdown",
   "metadata": {
    "tags": []
   },
   "source": [
    "---\n",
    "### &#128721; STOP\n",
    "Check in with an instructor before you leave class!\n",
    "\n",
    "---"
   ]
  },
  {
   "cell_type": "markdown",
   "metadata": {},
   "source": [
    "---"
   ]
  },
  {
   "cell_type": "markdown",
   "metadata": {},
   "source": [
    "## Congratulations, you're done!\n",
    "\n",
    "Submit this assignment by uploading it to the course Desire2Learn web page.  Go to the \"In-class assignments\" folder, find the appropriate submission folder, and upload it there.\n",
    "\n",
    "See you next class!"
   ]
  },
  {
   "cell_type": "markdown",
   "metadata": {},
   "source": [
    "&#169; Copyright 2023,  Department of Computational Mathematics, Science and Engineering at Michigan State University"
   ]
  }
 ],
 "metadata": {
  "kernelspec": {
   "display_name": "Python 3 (ipykernel)",
   "language": "python",
   "name": "python3"
  },
  "language_info": {
   "codemirror_mode": {
    "name": "ipython",
    "version": 3
   },
   "file_extension": ".py",
   "mimetype": "text/x-python",
   "name": "python",
   "nbconvert_exporter": "python",
   "pygments_lexer": "ipython3",
   "version": "3.11.5"
  }
 },
 "nbformat": 4,
 "nbformat_minor": 4
}
