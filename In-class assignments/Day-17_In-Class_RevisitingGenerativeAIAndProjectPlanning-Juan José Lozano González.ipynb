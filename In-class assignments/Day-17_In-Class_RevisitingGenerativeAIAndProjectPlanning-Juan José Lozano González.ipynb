{
 "cells": [
  {
   "cell_type": "markdown",
   "metadata": {},
   "source": [
    "# In-Class Assignment: Revisiting Generative AI and Project Planning\n",
    "# Day 17\n",
    "# CMSE 202\n",
    "<img src=\"https://wcs.smartdraw.com/working-smarter/img/how-to-create-a-project-planning-map.svg?bn=15100111875\" width=500px>\n",
    "\n",
    "\n",
    "### Agenda for today's class\n",
    "\n",
    "</p>\n",
    "\n",
    "1. [Using and citing generative AI](#ai)\n",
    "1. [Setting up a GitHub repository](#github)\n",
    "1. [Effective Collaboration and Communication](#groupwork)\n",
    "1. [Project Planning](#projectplanning)\n",
    "1. [Project work time](#projectwork)"
   ]
  },
  {
   "cell_type": "markdown",
   "metadata": {},
   "source": [
    "### <p style=\"text-align: right;\"> &#9989; **Juan José Lozano González** </p>\n",
    "#### <p style=\"text-align: right;\"> &#9989; Put your group member names here</p>"
   ]
  },
  {
   "cell_type": "markdown",
   "metadata": {},
   "source": [
    "---\n",
    "<a id=\"ai\"></a>\n",
    "## 1. Getting more practice with Generative AI and being intentional about how you use and cite it\n",
    "\n",
    "As we've done previously, we're going to spend a bit of time thinking about how we might use generative AI as a tool to assist and accelerate our computational work. There are many ways that generative AI tools like [ChatGPT](https://chat.openai.com/[) and [Claude](https://claude.ai/) can assist you when you run into expected struggles in your computational work and it can be really good at some things, while struggling with others. Of course, it is also important that we are transparent about how and went we use these tools and that we cite them appropriately.\n",
    "\n",
    "Before we dive in, let's look at how one of these tools defines itself.\n",
    "\n",
    "The following text is generated from:\n",
    "\n",
    "[1] OpenAI ChatGPT-3.5. Accessed on Sept 15, 2023 from https://chat.openai.com/.  Prompt chain:{'What is GPT-3'} \n",
    "\n",
    "> GPT-3, or Generative Pre-trained Transformer 3, is a state-of-the-art natural language processing (NLP) model developed by OpenAI. It's the third iteration in the GPT series of models and is known for its remarkable ability to understand and generate human-like text. Here are some key characteristics and features of GPT-3:\n",
    ">\n",
    "> 1. **Scale:** GPT-3 is one of the largest language models, containing 175 billion parameters. The large scale of the model contributes to its impressive language understanding and generation capabilities.\n",
    ">\n",
    "> 2. **Pre-training:** Like its predecessors, GPT-3 is pre-trained on a massive corpus of text from the internet. During pre-training, the model learns to predict the next word in a sentence, gaining a deep understanding of grammar, context, and semantics.\n",
    ">\n",
    "> 3. **Fine-tuning:** GPT-3 can be fine-tuned on specific tasks or domains. This means it can be adapted for a wide range of NLP tasks, such as text generation, translation, summarization, question-answering, and more.\n",
    ">\n",
    "> 4. **Human-like text generation:** GPT-3 is known for its ability to generate coherent and contextually relevant text. It can answer questions, write essays, create conversational agents, and perform various language-related tasks.\n",
    ">\n",
    "> 5. **Zero-shot and few-shot learning:** GPT-3 can perform tasks with minimal examples or instructions, making it highly versatile. It can understand and execute tasks even when provided with very limited context.\n",
    ">\n",
    "> 6. **Ethical considerations:** GPT-3 has sparked discussions about its potential for misuse, including generating misleading information, disinformation, or deepfakes. OpenAI has implemented ethical guidelines and usage policies to address these concerns.\n",
    ">\n",
    "> GPT-3 has been widely used in a variety of applications, from chatbots and virtual assistants to content generation, language translation, and more. It has the potential to revolutionize the field of natural language processing and human-computer interaction.\n"
   ]
  },
  {
   "cell_type": "markdown",
   "metadata": {},
   "source": [
    "### 1.1 Citing Generative AI in your code and work\n",
    "\n",
    "Before we experiment with this tools again, we want to reiterate our expectations for how you should use and cite these tools.  We've talked about this before, but it's worth repeating.\n",
    "\n",
    "Citing sources in your work is necessary for several important reasons:\n",
    "\n",
    "1. **Giving Credit:** When you use someone else's ideas, research, or words in your work, it's essential to give proper credit to the original source. Citing acknowledges the intellectual property of others and shows respect for their contributions.\n",
    "\n",
    "2. **Avoiding Plagiarism:** Failure to cite sources can lead to plagiarism, which is a serious academic and ethical violation. Plagiarism occurs when you present someone else's work as your own. Proper citations help you avoid this.\n",
    "\n",
    "3. **Providing Evidence and Authority:** Citing reputable sources adds credibility and authority to your work. It demonstrates that your ideas are supported by existing research or expert opinions.\n",
    "\n",
    "4. **Allowing Verification:** Readers should be able to verify the claims and evidence you present in your work. By citing your sources, you allow others to find and review the same information.\n",
    "\n",
    "5. **Showing Your Research Process:** Proper citations demonstrate that you've done your research and have considered various perspectives and sources. It adds depth and reliability to your work.\n",
    "\n",
    "6. **Avoiding Legal Issues:** In some cases, failing to cite sources can lead to legal issues, especially if you use copyrighted material without permission.\n",
    "\n",
    "These points are adapted from: \n",
    "\n",
    "[2] OpenAI ChatGPT-3.5. Accessed on Sept 15, 2023 from https://chat.openai.com/.  Prompt chain:{'why is it necessary to cite a sources in work'} \n",
    "\n",
    "#### Citation Requirements for this course\n",
    "\n",
    "For this course (and recommended for anytime you use generative AI for the foreseeable future), you **are expected to** cite every time you use any form of generative AI.  Your citation must include the following key items:\n",
    "\n",
    "1. **Author**: usually the company the created the AI system or the name of the AI; Or the Author and specific AI model.  For example: `Open AI GPT-3.5`\n",
    "\n",
    "2. **Access Date**: Date the content was generated (for example: `Sept 15, 2023`)\n",
    "\n",
    "3. **Access Interface**: Include how the system was accessed, typically using a web URL.  Include the URL of the tool or other access such as an extension in a development enviroment (for example: `Accessed from https://chat.openai.com/ ` or `Assisted by extension in VS code`)\n",
    "\n",
    "4. **Prompts**: Provide the prompts or a summary of the prompts that generated the content (for example: `Prompt chain:{'how many licks does it take to get to the middle of a tootsie roll; please shorten that; can you write it in limerick form}`)\n",
    "\n",
    "For examples, see citations [1] and [2] above."
   ]
  },
  {
   "cell_type": "markdown",
   "metadata": {},
   "source": [
    "\n",
    "### 1.2 Using multiple AI prompts to generate python code\n",
    "\n",
    "Practice using ChatGPT (or Claude or something else you prefer more) to generate python code to accomplish the following task.  You can access Chat GPT-3.5 for free with a free account at: https://chat.openai.com/ (you can create an account and access Claude at: https://claude.ai/)\n",
    "\n",
    "&#9989; **Question 1.1**: Generate a bar graph to display the undergraduate enrollment at MSU for years 2019 through 2023.  Include a green color pallete to make it MSU colors.  A code cell to generate the data is provide, **make sure you run that cell before running your AI-generated code**. Also, **make sure to include a citation** following the rules above.\n"
   ]
  },
  {
   "cell_type": "code",
   "execution_count": 3,
   "metadata": {},
   "outputs": [
    {
     "data": {
      "text/html": [
       "<div>\n",
       "<style scoped>\n",
       "    .dataframe tbody tr th:only-of-type {\n",
       "        vertical-align: middle;\n",
       "    }\n",
       "\n",
       "    .dataframe tbody tr th {\n",
       "        vertical-align: top;\n",
       "    }\n",
       "\n",
       "    .dataframe thead th {\n",
       "        text-align: right;\n",
       "    }\n",
       "</style>\n",
       "<table border=\"1\" class=\"dataframe\">\n",
       "  <thead>\n",
       "    <tr style=\"text-align: right;\">\n",
       "      <th></th>\n",
       "      <th>Year</th>\n",
       "      <th>Undergrad_Enrollment</th>\n",
       "    </tr>\n",
       "  </thead>\n",
       "  <tbody>\n",
       "    <tr>\n",
       "      <th>0</th>\n",
       "      <td>2019</td>\n",
       "      <td>39176</td>\n",
       "    </tr>\n",
       "    <tr>\n",
       "      <th>1</th>\n",
       "      <td>2020</td>\n",
       "      <td>38491</td>\n",
       "    </tr>\n",
       "    <tr>\n",
       "      <th>2</th>\n",
       "      <td>2021</td>\n",
       "      <td>38574</td>\n",
       "    </tr>\n",
       "    <tr>\n",
       "      <th>3</th>\n",
       "      <td>2022</td>\n",
       "      <td>39201</td>\n",
       "    </tr>\n",
       "    <tr>\n",
       "      <th>4</th>\n",
       "      <td>2023</td>\n",
       "      <td>40483</td>\n",
       "    </tr>\n",
       "  </tbody>\n",
       "</table>\n",
       "</div>"
      ],
      "text/plain": [
       "   Year  Undergrad_Enrollment\n",
       "0  2019                 39176\n",
       "1  2020                 38491\n",
       "2  2021                 38574\n",
       "3  2022                 39201\n",
       "4  2023                 40483"
      ]
     },
     "execution_count": 3,
     "metadata": {},
     "output_type": "execute_result"
    }
   ],
   "source": [
    "import pandas as pd\n",
    "# MSU Undergraduate Enrollment Data\n",
    "data = {\n",
    "    'Year': [2019, 2020, 2021, 2022, 2023],\n",
    "    'Undergrad_Enrollment': [39176, 38491,38574, 39201, 40483]\n",
    "}\n",
    "\n",
    "# Create a pandas DataFrame\n",
    "df = pd.DataFrame(data)\n",
    "df.head()\n"
   ]
  },
  {
   "cell_type": "code",
   "execution_count": 5,
   "metadata": {},
   "outputs": [
    {
     "data": {
      "image/png": "[encoded data removed]",
      "text/plain": [
       "<Figure size 1000x600 with 1 Axes>"
      ]
     },
     "metadata": {},
     "output_type": "display_data"
    }
   ],
   "source": [
    "import matplotlib.pyplot as plt\n",
    "# Set the figure size\n",
    "plt.figure(figsize=(10, 6))\n",
    "\n",
    "# Plot the bar graph\n",
    "plt.bar(df['Year'], df['Undergrad_Enrollment'], color='#18453B')  # Green color for MSU\n",
    "\n",
    "# Add title and labels\n",
    "plt.title('MSU Undergraduate Enrollment (2019-2023)')\n",
    "plt.xlabel('Year')\n",
    "plt.ylabel('Undergraduate Enrollment')\n",
    "\n",
    "# Show the plot\n",
    "plt.show()\n"
   ]
  },
  {
   "cell_type": "markdown",
   "metadata": {},
   "source": [
    "[1]OpenAI. (2024). ChatGPT-3.5. Accessed from https://chat.openai.com/ on Mar, 21, 2024. Prompt chain:{‘ontinue this code SO THAT, it generates a bar graph to display the undergraduate enrollment at MSU for years 2019 through 2023.  Include a green color pallete to make it MSU colors.  A code cell to generate the data is provide, [the code base, PLUS the df.head()]’}"
   ]
  },
  {
   "cell_type": "markdown",
   "metadata": {},
   "source": [
    "\n",
    "&#9989; **Question 1.2**: Using this data and a generative AI tool, try to prompt the AI to generate a linear regression model to predict the enrollment in 2025.  Be sure to use the fitting package that we used in class (`statsmodel`). What will be the enrollment in 2025 based on this model?  Make sure to include a citation following the rules above.\n"
   ]
  },
  {
   "cell_type": "code",
   "execution_count": 6,
   "metadata": {},
   "outputs": [],
   "source": [
    "import statsmodels.api as sm"
   ]
  },
  {
   "cell_type": "code",
   "execution_count": 8,
   "metadata": {},
   "outputs": [
    {
     "name": "stdout",
     "output_type": "stream",
     "text": [
      "Predicted enrollment for 2025: 40514.59999999844\n"
     ]
    }
   ],
   "source": [
    "# Add a constant column for the intercept term\n",
    "df['const'] = 1\n",
    "\n",
    "# Define the independent variable X (Year) and dependent variable y (Undergrad_Enrollment)\n",
    "X = df[['const', 'Year']]\n",
    "y = df['Undergrad_Enrollment']\n",
    "\n",
    "# Create a linear regression model\n",
    "model = sm.OLS(y, X)\n",
    "\n",
    "# Fit the model to the data\n",
    "results = model.fit()\n",
    "\n",
    "# Predict enrollment for 2025\n",
    "predicted_enrollment_2025 = results.predict([1, 2025])  # Adding 1 for the constant term\n",
    "\n",
    "print(\"Predicted enrollment for 2025:\", predicted_enrollment_2025[0])"
   ]
  },
  {
   "cell_type": "markdown",
   "metadata": {},
   "source": [
    "[1]OpenAI. (2024). ChatGPT-3.5. Accessed from https://chat.openai.com/ on Mar, 21, 2024. Prompt chain:{‘ontinue this code SO THAT, it generates a bar graph to display the undergraduate enrollment at MSU for years 2019 through 2023.  Include a green color pallete to make it MSU colors.  A code cell to generate the data is provide, [the code base, PLUS the df.head()]’, generate a linear regression model to predict the enrollment in 2025 using statsmodel}"
   ]
  },
  {
   "cell_type": "markdown",
   "metadata": {},
   "source": [
    "&#9989; **Question 1.3**: Using the AI tool, try to prompt it to generate a bar graph similar to what you see below.  You do not necessarily need to have the same predictions, but try to match the y-axis range, the ability to make predictions for the future years below, and ability to distinguish between the provided enrollment data and the predicted enrollment.   Make sure to include a citation following the rules above.\n",
    "\n",
    "<img width=500px src=\"https://raw.githubusercontent.com/msu-cmse-courses/cmse202-supplemental-data/main/images/msu_enrollment.png\">\n"
   ]
  },
  {
   "cell_type": "code",
   "execution_count": 15,
   "metadata": {},
   "outputs": [
    {
     "data": {
      "image/png": "[encoded data removed]",
      "text/plain": [
       "<Figure size 1000x600 with 1 Axes>"
      ]
     },
     "metadata": {},
     "output_type": "display_data"
    }
   ],
   "source": [
    "import pandas as pd\n",
    "import matplotlib.pyplot as plt\n",
    "import statsmodels.api as sm\n",
    "\n",
    "# MSU Undergraduate Enrollment Data\n",
    "data = {\n",
    "    'Year': [2019, 2020, 2021, 2022, 2023],\n",
    "    'Undergrad_Enrollment': [39176, 38491, 38574, 39201, 40483]\n",
    "}\n",
    "\n",
    "# Create a pandas DataFrame\n",
    "df = pd.DataFrame(data)\n",
    "\n",
    "# Add a constant for the intercept term\n",
    "X = sm.add_constant(df['Year'])\n",
    "\n",
    "# Fit the linear regression model\n",
    "model = sm.OLS(df['Undergrad_Enrollment'], X).fit()\n",
    "\n",
    "# Predict enrollments for the years 2024, 2025, 2026, and 2027\n",
    "years_to_predict = [2024, 2025, 2026, 2027]\n",
    "X_pred = sm.add_constant(years_to_predict)\n",
    "predicted_enrollments = model.predict(X_pred)\n",
    "\n",
    "# Plot the original data\n",
    "plt.figure(figsize=(10, 6))\n",
    "plt.bar(df['Year'], df['Undergrad_Enrollment'], color='#18453B', label='Undergrad_Enrollment')\n",
    "\n",
    "# Plot the predicted data\n",
    "plt.bar(years_to_predict, predicted_enrollments, color='#7EC8E3', label='Predicted_Enrollment')\n",
    "\n",
    "# Set minimum y-axis limit\n",
    "plt.ylim(38000)\n",
    "\n",
    "# Add title and labels\n",
    "plt.title('MSU Undergraduate Enrollment with Predictions')\n",
    "plt.xlabel('Year')\n",
    "plt.ylabel('Undergraduate Enrollment')\n",
    "\n",
    "# Add legend\n",
    "plt.legend()\n",
    "\n",
    "# Show the plot\n",
    "plt.grid(True)\n",
    "plt.show()\n"
   ]
  },
  {
   "cell_type": "markdown",
   "metadata": {},
   "source": [
    "[1]OpenAI. (2024). ChatGPT-3.5. Accessed from https://chat.openai.com/ on Mar, 21, 2024. Prompt chain:{‘ontinue this code SO THAT, it generates a bar graph to display the undergraduate enrollment at MSU for years 2019 through 2023.  Include a green color pallete to make it MSU colors.  A code cell to generate the data is provide, [the code base, PLUS the df.head()]’, generate a linear regression model to predict the enrollment in 2025 using statsmodel, with this regression model, calculate the predicted amount of enrollments for 2024, 2025, 2026, 2027.\n",
    "\n",
    "then create a barplot of the data of the dataframe, and the predicted data in the same plot, plotting the data of the dataframe on dark green with legend Undergrad_Enrollment, and the data of the regression model for years 2024, 2025, 2026, 2027 light green with legend Predicted_Enrollment.\n",
    "\n",
    "make sure to make the minimum of the y axis 37000}"
   ]
  },
  {
   "cell_type": "markdown",
   "metadata": {},
   "source": [
    "&#9989; **Question 1.4**: Reflect on your experience with using a generative AI tool to complete these tasks:\n",
    "\n",
    "1. What worked well?\n",
    "2. What didn't?\n",
    "3. How do you decide when you trust the AI's solutions versus when you don't? What criteria are you using to make these sorts of judgement calls?\n",
    "4. In what ways do you think this sort of tool could help to advance your semester project work?\n",
    "\n",
    "**Discuss these questions with your group and record your answers in the cell below**"
   ]
  },
  {
   "cell_type": "markdown",
   "metadata": {},
   "source": [
    "<font size=+3>&#9998;</font> 1. Simple stuff worked great and only required one iteration of the prompt.\n",
    "\n",
    "2. Very specific stuff about small details.\n",
    "\n",
    "3. I run the code myself, and I run some sanity checks, and if the code looks like it fullfils my expectations I tend to trust it.\n",
    "\n",
    "4. It can make development faster, as it is better than reading documentation for libraries 99.9% of the time, and because it can give me ideas it would take me horus to come up with myself."
   ]
  },
  {
   "cell_type": "markdown",
   "metadata": {},
   "source": [
    "---\n",
    "<a id=\"github\"></a>\n",
    "## 2. Setting up a GitHub repository for your project\n",
    "\n",
    "To make sure you have a GitHub repository set up for your semester project, we're gonna start that process in this section of today's assignment!\n",
    "\n",
    "Before you leave class today, you need to make sure you've done the following:\n",
    "\n",
    "1. Set up a new **private** GitHub repository for your project.\n",
    "\n",
    "2. Make sure all group members are collaborators on the repository.\n",
    "3. Add your instructor and TA as collaborators on the repository.\n",
    "4. Make sure all group members have cloned the repository to their local machines or JupyterHub to confirm that they have access.\n",
    "5. Make the following updates/additions to the README.md file in the primary directory of your repository (**only one person needs to add this information, commit the changes, and push the changes**):\n",
    "    * Add your project group name (this can be your project idea/topic)\n",
    "    \n",
    "    * Add the names of all group members\n",
    "6. Create another Markdown document (with the `.md` extension) in the primary directory of your repo called \"ProjectDiscussionAndPlanning.md\", add this to your repo, and commit it. As you work through Parts 3 and 4 of this assignment, you'll add the following information to it, commit those changes, and push them to the repo at the end of class (**only one person needs to add this information, commit the changes, and push the changes, but you can take turns doing this to get some practice!**):\n",
    "    * Add your plans for creating effective collaboration and communication within your project group (based on your discussion in the *Part 3* and the answers to those questions)\n",
    "\n",
    "    * Add your project roles and who is taking on each role based on your discussion in *Part 4* and the answers to those questions\n",
    "    * Add the short-term project goals you identified in the *Part 4* and the deadlines for each goal\n",
    "    * Add the day, time, and location of your first group meeting, as determined in *Part 4* as well\n"
   ]
  },
  {
   "cell_type": "markdown",
   "metadata": {},
   "source": [
    "----\n",
    "<a id=\"groupwork\"></a>\n",
    "## 3. Fostering effective collaboration and communication in your project group\n",
    "\n"
   ]
  },
  {
   "cell_type": "markdown",
   "metadata": {},
   "source": [
    "&#9989; **Do This:** As a group, discuss the responses you had in your pre-class assignment to the following questions regarding a previous group work experience:\n",
    "\n",
    "* What worked well in this group effort? What did you do that helped the group work well together? What did other people do that helped the group work well together? Can you identify aspects of the group work that made the project successful? If the project wasn't successful, still try to identify parts of the group work that went well.\n",
    "\n",
    "* What challenges did you face in this group effort? What strategies did you use to overcome these challenges? What did other people do to overcome these challenges? Can you identify aspects of the group work that made the project challenging? What could you do differently on future group efforts to avoid these challenges?\n",
    "\n",
    "**Make sure everyone gets a chance to share their experiences.**"
   ]
  },
  {
   "cell_type": "markdown",
   "metadata": {},
   "source": [
    "<font size=+3>&#9998;</font> Take any notes that seem important here:\n",
    "\n",
    "Seth and I have both worked in group projects before, where sally hasn't.\n",
    "\n",
    "What is really important is for us to work together, be responsive, be reliable, and respect each other."
   ]
  },
  {
   "cell_type": "markdown",
   "metadata": {},
   "source": [
    "&#9989; **Do This:** Now that you've talked about your previous group work experiences, discuss the following questions:\n",
    "\n",
    "1. What form of communication will work best for all of your when you need to discuss your project and make decisions?  For example, will you use Slack, Discord, text messages, email, in-person meetings etc.?"
   ]
  },
  {
   "cell_type": "markdown",
   "metadata": {},
   "source": [
    "<font size=+3>&#9998;</font> Make sure your group's answer is recorded in the `ProjectDiscussionAndPlanning.md` file in your repo, but feel free to drop any important notes here as well, if that would be helpful.\n"
   ]
  },
  {
   "cell_type": "markdown",
   "metadata": {},
   "source": [
    "2. How often do you think you should meet as a group to discuss your project?  How long should these meetings be?  What should you do if you can't make a meeting?"
   ]
  },
  {
   "cell_type": "markdown",
   "metadata": {},
   "source": [
    "<font size=+3>&#9998;</font> Make sure your group's answer is recorded in the `ProjectDiscussionAndPlanning.md` file in your repo, but feel free to drop any important notes here as well, if that would be helpful.\n"
   ]
  },
  {
   "cell_type": "markdown",
   "metadata": {},
   "source": [
    "3. What are some strategies you can use to make sure everyone is contributing to the project?  How will you make sure everyone is on the same page? How will you hold each other accountable?\n"
   ]
  },
  {
   "cell_type": "markdown",
   "metadata": {},
   "source": [
    "<font size=+3>&#9998;</font> Make sure your group's answer is recorded in the `ProjectDiscussionAndPlanning.md` file in your repo, but feel free to drop any important notes here as well, if that would be helpful.\n"
   ]
  },
  {
   "cell_type": "markdown",
   "metadata": {},
   "source": [
    "4. As a group, what are you overall goals for the project? What strategies will you use to make sure you meet these goals?"
   ]
  },
  {
   "cell_type": "markdown",
   "metadata": {},
   "source": [
    "<font size=+3>&#9998;</font> Make sure your group's answer is recorded in the `ProjectDiscussionAndPlanning.md` file in your repo, but feel free to drop any important notes here as well, if that would be helpful.\n"
   ]
  },
  {
   "cell_type": "markdown",
   "metadata": {},
   "source": [
    "---\n",
    "<a id=\"projectplanning\"></a>\n",
    "## 4. Project Planning\n",
    "\n",
    "Now that you've had a chance to think about how you will work together as a group, it's time to start thinking about how you will plan your project to make sure you meet your project goals.\n",
    "\n",
    "&#9989; **Do This:** To start, spend some time thinking about the various roles that might be needed in order for your project to meet its goals. For example, you might want:\n",
    "\n",
    "* someone to be in charge of sending our reminders for group meetings and reserving a space to meet or setting up a zoom room\n",
    "\n",
    "* someone to periodically test your project code to ensure that it is still working as intended and reporting issues as they arise (GitHub has an issue tracking feature!)\n",
    "* someone to take the lead in developing the project presentation slides (e.g. setting up a shared slide deck, building an outline, indicating who is responsible for which part, etc.)\n",
    "* and so on... (*you should take these as suggestions and come up with the list of roles that make sense to you and your group!*)\n",
    "\n",
    "You may find it useful to review the project requirements page on tue course website to make sure you all know what's expected of you and it might help with identifying important roles to have within your group: https://msu-cmse-courses.github.io/cmse202-S24-jb/course_materials/CMSE202_FinalProjectRequirementsAndGradingRubric.html \n",
    "\n",
    "If someone is missing from your group, its OK to assign them a role during this class session, but make sure to make contact with them to ensure that they are OK with taking on this role or if they think they would be an asset to the group in another way."
   ]
  },
  {
   "cell_type": "markdown",
   "metadata": {},
   "source": [
    "<font size=+3>&#9998;</font> Someone to clean the dataset, someone to code the regression model, someone to plot and diplay the data.\n"
   ]
  },
  {
   "cell_type": "markdown",
   "metadata": {},
   "source": [
    "&#9989; **Do This:** Now that you've determined the role(s) each of you will take in supporting your project, you're going to try to identify some short-term project goals that you can use to help you stay on track.  For example, you might want to:\n",
    "\n",
    "* Have usable data or a chosen model you're going to use (or both) by next week\n",
    "\n",
    "* Have a working proof-of-concept by end of March.\n",
    "* Have first-draft versions of key data visualizations by April 5th.\n",
    "* and so on... (*again, these are just random suggestions, you should choose things that align with your overall project goals and map to a realistic timeline*)\n",
    "\n",
    "You may want to revisit the [project requirements and grading rubric](https://msu-cmse-courses.github.io/cmse202-S24-jb/course_materials/CMSE202_FinalProjectRequirementsAndGradingRubric.html) and, as a reminder, you're expected to give a project progress update presentation during the Day 23 class session. For reference, the course schedule is here: https://msu-cmse-courses.github.io/cmse202-S24-jb/course_materials/CMSE202_Calendar.html\n",
    "\n",
    "It would be really great to have a complete project draft by Day 23!\n",
    "\n",
    "**Record at least three short-term project goals with target deadlines in the markdown cell below.** You may also wish to include who in the group will be working on each goal."
   ]
  },
  {
   "cell_type": "markdown",
   "metadata": {},
   "source": [
    "<font size=+3>&#9998;</font> We think as this is easy and I have ample experience with regression models we can pull this off in the weekend of the 6th of april."
   ]
  },
  {
   "cell_type": "markdown",
   "metadata": {},
   "source": [
    "&#9989; **Do This:** Finally, before moving on to set up your project repository, **set a day, time, and (if possible) as location for your first group project meeting (you can always just use Zoom for this).** \n",
    "\n",
    "Make sure everyone in the group is available at this time and that you have a way to contact each if something comes up.  If you can't find a time that works for everyone, try to find a time that works for most people and then make sure to record the meeting or take detailed notes so that anyone who can't make it can still get caught up."
   ]
  },
  {
   "cell_type": "markdown",
   "metadata": {},
   "source": [
    "<font size=+3>&#9998;</font> Zoom, some time in the weekend of april 6th."
   ]
  },
  {
   "cell_type": "markdown",
   "metadata": {},
   "source": [
    "---\n",
    "<a id=\"projectwork\"></a>\n",
    "## 5. Project work time\n",
    "\n",
    "With any time still remaining, you are strongly encouraged to start using it to make some forward progress on your project.\n",
    "\n",
    "Good luck!"
   ]
  },
  {
   "cell_type": "markdown",
   "metadata": {},
   "source": [
    "-----\n",
    "### Congratulations, we're done!\n",
    "\n",
    "Now, you just need to submit this assignment by uploading it to the course <a href=\"https://d2l.msu.edu/\">Desire2Learn</a> web page for today's submission folder (Don't forget to add your names in the first cell).\n"
   ]
  },
  {
   "cell_type": "markdown",
   "metadata": {},
   "source": [
    "&#169; Copyright 2023, Department of Computational Mathematics, Science and Engineering at Michigan State University"
   ]
  }
 ],
 "metadata": {
  "interpreter": {
   "hash": "31f2aee4e71d21fbe5cf8b01ff0e069b9275f58929596ceb00d14d90e3e16cd6"
  },
  "kernelspec": {
   "display_name": "Python 3 (ipykernel)",
   "language": "python",
   "name": "python3"
  },
  "language_info": {
   "codemirror_mode": {
    "name": "ipython",
    "version": 3
   },
   "file_extension": ".py",
   "mimetype": "text/x-python",
   "name": "python",
   "nbconvert_exporter": "python",
   "pygments_lexer": "ipython3",
   "version": "3.11.5"
  },
  "widgets": {
   "application/vnd.jupyter.widget-state+json": {
    "state": {},
    "version_major": 2,
    "version_minor": 0
   }
  }
 },
 "nbformat": 4,
 "nbformat_minor": 4
}
